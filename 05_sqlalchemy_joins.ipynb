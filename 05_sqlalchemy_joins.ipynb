{
 "cells": [
  {
   "cell_type": "markdown",
   "metadata": {},
   "source": [
    "# SQLAlchemy ORM Reflection with Joins\n",
    "\n",
    "### Here we \"reflect\" (i.e inspect/read) the design of an existing database.\n",
    "\n",
    "We read what is out there.  \n",
    "\n",
    "This of course is awesome for existing databases.\n",
    "\n",
    "This keeps you from having to manually create classes"
   ]
  },
  {
   "cell_type": "code",
   "execution_count": 1,
   "metadata": {},
   "outputs": [],
   "source": [
    "# dependencies\n",
    "import pandas as pd\n",
    "import numpy as np\n",
    "import sqlalchemy\n",
    "from sqlalchemy.ext.automap import automap_base\n",
    "from sqlalchemy.orm import Session\n",
    "from sqlalchemy import create_engine, inspect, join, outerjoin"
   ]
  },
  {
   "cell_type": "code",
   "execution_count": 2,
   "metadata": {},
   "outputs": [],
   "source": [
    "# connect to database\n",
    "db_path = \"corgies.db\"\n",
    "engine = create_engine(f\"sqlite:///{db_path}\")\n",
    "conn = engine.connect()"
   ]
  },
  {
   "cell_type": "markdown",
   "metadata": {},
   "source": [
    "## What if I just want to know what's out there?\n",
    "\n",
    "I don't want to update anything, I just want to be able to see the design"
   ]
  },
  {
   "cell_type": "code",
   "execution_count": 3,
   "metadata": {},
   "outputs": [],
   "source": [
    "# Create the inspector and connect it to the engine\n",
    "inspector = inspect(engine)"
   ]
  },
  {
   "cell_type": "code",
   "execution_count": 4,
   "metadata": {},
   "outputs": [
    {
     "name": "stdout",
     "output_type": "stream",
     "text": [
      "['grades', 'pets', 'training']\n"
     ]
    }
   ],
   "source": [
    "tables = inspector.get_table_names()\n",
    "print(tables)"
   ]
  },
  {
   "cell_type": "code",
   "execution_count": 5,
   "metadata": {},
   "outputs": [
    {
     "name": "stdout",
     "output_type": "stream",
     "text": [
      "\n",
      "\n",
      "------------\n",
      "table 'grades' has the following columns:\n",
      "------------\n",
      "name: pet_id   column type: INTEGER\n",
      "name: task_id   column type: INTEGER\n",
      "name: grade   column type: TEXT\n",
      "name: comments   column type: TEXT\n",
      "\n",
      "\n",
      "------------\n",
      "table 'pets' has the following columns:\n",
      "------------\n",
      "name: id   column type: INTEGER\n",
      "name: name   column type: TEXT\n",
      "name: age   column type: INTEGER\n",
      "name: breed   column type: TEXT\n",
      "name: age_adopted   column type: TEXT\n",
      "\n",
      "\n",
      "------------\n",
      "table 'training' has the following columns:\n",
      "------------\n",
      "name: id   column type: INTEGER\n",
      "name: task   column type: TEXT\n",
      "name: description   column type: TEXT\n"
     ]
    }
   ],
   "source": [
    "for table in tables:\n",
    "    print(\"\\n\")\n",
    "    print('-' * 12)\n",
    "    print(f\"table '{table}' has the following columns:\")\n",
    "    print('-' * 12)\n",
    "    for column in inspector.get_columns(table):\n",
    "        print(f\"name: {column['name']}   column type: {column['type']}\")\n",
    "        "
   ]
  },
  {
   "cell_type": "markdown",
   "metadata": {},
   "source": [
    "## I NEED MORE POWER !!!!\n",
    "\n",
    "Things have got to change"
   ]
  },
  {
   "cell_type": "code",
   "execution_count": 6,
   "metadata": {},
   "outputs": [],
   "source": [
    "# let's create the base \n",
    "Base = automap_base()"
   ]
  },
  {
   "cell_type": "code",
   "execution_count": 7,
   "metadata": {},
   "outputs": [],
   "source": [
    "# let's find out what's in this darn database !\n",
    "Base.prepare(engine, reflect=True)"
   ]
  },
  {
   "cell_type": "code",
   "execution_count": 8,
   "metadata": {},
   "outputs": [
    {
     "data": {
      "text/plain": [
       "['grades', 'pets', 'training']"
      ]
     },
     "execution_count": 8,
     "metadata": {},
     "output_type": "execute_result"
    }
   ],
   "source": [
    "tables = Base.classes.keys()\n",
    "tables"
   ]
  },
  {
   "cell_type": "markdown",
   "metadata": {},
   "source": [
    "### Classes = Tables\n",
    "Remember classes are representations of tables in our database.  \n",
    "\n",
    "So by getting the classe names, we are getting the table names"
   ]
  },
  {
   "cell_type": "code",
   "execution_count": 9,
   "metadata": {},
   "outputs": [],
   "source": [
    "Grades = Base.classes['grades']\n",
    "Pets = Base.classes['pets']\n",
    "Training = Base.classes['training']"
   ]
  },
  {
   "cell_type": "code",
   "execution_count": 10,
   "metadata": {},
   "outputs": [],
   "source": [
    "# remember we need a session for ORM\n",
    "session = Session(engine)"
   ]
  },
  {
   "cell_type": "code",
   "execution_count": 11,
   "metadata": {},
   "outputs": [],
   "source": [
    "# idea base from: https://riptutorial.com/sqlalchemy/example/6614/converting-a-query-result-to-dict\n",
    "def object_as_dict(obj):\n",
    "    \"\"\"\n",
    "    This function takes in a Class instance and converts it to a dictionary\n",
    "    \"\"\"\n",
    "    obj_count = 1\n",
    "    try:\n",
    "        obj_count = len(obj)\n",
    "    except:\n",
    "        pass\n",
    "    if  obj_count == 1:\n",
    "        base_dict = {c.key: getattr(obj, c.key)\n",
    "            for c in inspect(obj).mapper.column_attrs}\n",
    "        return base_dict\n",
    "    else:\n",
    "        cur_obj = obj[0]\n",
    "        base_dict = {c.key: getattr(cur_obj, c.key) for c in inspect(cur_obj).mapper.column_attrs}\n",
    "        for i in range(1, obj_count):\n",
    "            cur_obj = obj[i]\n",
    "            cur_dict = {c.key: getattr(cur_obj, c.key) for c in inspect(cur_obj).mapper.column_attrs}\n",
    "            base_dict = {**base_dict, **cur_dict} \n",
    "        return base_dict    "
   ]
  },
  {
   "cell_type": "code",
   "execution_count": 12,
   "metadata": {},
   "outputs": [],
   "source": [
    "# from jeff LOL\n",
    "def query_to_list_of_dicts(cur_query):\n",
    "    \"\"\"\n",
    "    From a query object return a list of dictionaries\n",
    "    \"\"\"\n",
    "    return [object_as_dict(row) for row in cur_query]"
   ]
  },
  {
   "cell_type": "code",
   "execution_count": 13,
   "metadata": {},
   "outputs": [
    {
     "data": {
      "text/html": [
       "<div>\n",
       "<style scoped>\n",
       "    .dataframe tbody tr th:only-of-type {\n",
       "        vertical-align: middle;\n",
       "    }\n",
       "\n",
       "    .dataframe tbody tr th {\n",
       "        vertical-align: top;\n",
       "    }\n",
       "\n",
       "    .dataframe thead th {\n",
       "        text-align: right;\n",
       "    }\n",
       "</style>\n",
       "<table border=\"1\" class=\"dataframe\">\n",
       "  <thead>\n",
       "    <tr style=\"text-align: right;\">\n",
       "      <th></th>\n",
       "      <th>id</th>\n",
       "      <th>name</th>\n",
       "      <th>age</th>\n",
       "      <th>breed</th>\n",
       "      <th>age_adopted</th>\n",
       "    </tr>\n",
       "  </thead>\n",
       "  <tbody>\n",
       "    <tr>\n",
       "      <th>0</th>\n",
       "      <td>1</td>\n",
       "      <td>Patterson</td>\n",
       "      <td>11</td>\n",
       "      <td>Corgi</td>\n",
       "      <td>8 weeks</td>\n",
       "    </tr>\n",
       "    <tr>\n",
       "      <th>1</th>\n",
       "      <td>2</td>\n",
       "      <td>Judson</td>\n",
       "      <td>10</td>\n",
       "      <td>Corgi</td>\n",
       "      <td>3 years</td>\n",
       "    </tr>\n",
       "    <tr>\n",
       "      <th>2</th>\n",
       "      <td>3</td>\n",
       "      <td>Emily</td>\n",
       "      <td>?</td>\n",
       "      <td>Corgi</td>\n",
       "      <td>None</td>\n",
       "    </tr>\n",
       "  </tbody>\n",
       "</table>\n",
       "</div>"
      ],
      "text/plain": [
       "   id       name age  breed age_adopted\n",
       "0   1  Patterson  11  Corgi     8 weeks\n",
       "1   2     Judson  10  Corgi     3 years\n",
       "2   3      Emily   ?  Corgi        None"
      ]
     },
     "execution_count": 13,
     "metadata": {},
     "output_type": "execute_result"
    }
   ],
   "source": [
    "pets = query_to_list_of_dicts(session.query(Pets))\n",
    "# which can easily be made into a dataframe!!!!\n",
    "pd.DataFrame(pets)"
   ]
  },
  {
   "cell_type": "code",
   "execution_count": 14,
   "metadata": {},
   "outputs": [
    {
     "data": {
      "text/html": [
       "<div>\n",
       "<style scoped>\n",
       "    .dataframe tbody tr th:only-of-type {\n",
       "        vertical-align: middle;\n",
       "    }\n",
       "\n",
       "    .dataframe tbody tr th {\n",
       "        vertical-align: top;\n",
       "    }\n",
       "\n",
       "    .dataframe thead th {\n",
       "        text-align: right;\n",
       "    }\n",
       "</style>\n",
       "<table border=\"1\" class=\"dataframe\">\n",
       "  <thead>\n",
       "    <tr style=\"text-align: right;\">\n",
       "      <th></th>\n",
       "      <th>id</th>\n",
       "      <th>task</th>\n",
       "      <th>description</th>\n",
       "    </tr>\n",
       "  </thead>\n",
       "  <tbody>\n",
       "    <tr>\n",
       "      <th>0</th>\n",
       "      <td>1</td>\n",
       "      <td>sit</td>\n",
       "      <td>sit with bottom on floor</td>\n",
       "    </tr>\n",
       "    <tr>\n",
       "      <th>1</th>\n",
       "      <td>2</td>\n",
       "      <td>I feel faint</td>\n",
       "      <td>lay flat on back legs up like a \"faint\"</td>\n",
       "    </tr>\n",
       "    <tr>\n",
       "      <th>2</th>\n",
       "      <td>3</td>\n",
       "      <td>roll over</td>\n",
       "      <td>completely roll over</td>\n",
       "    </tr>\n",
       "    <tr>\n",
       "      <th>3</th>\n",
       "      <td>4</td>\n",
       "      <td>speak</td>\n",
       "      <td>bark loud and clear</td>\n",
       "    </tr>\n",
       "    <tr>\n",
       "      <th>4</th>\n",
       "      <td>5</td>\n",
       "      <td>lay down</td>\n",
       "      <td>lay with all four legs relaxed</td>\n",
       "    </tr>\n",
       "  </tbody>\n",
       "</table>\n",
       "</div>"
      ],
      "text/plain": [
       "   id          task                              description\n",
       "0   1           sit                 sit with bottom on floor\n",
       "1   2  I feel faint  lay flat on back legs up like a \"faint\"\n",
       "2   3     roll over                     completely roll over\n",
       "3   4         speak                      bark loud and clear\n",
       "4   5      lay down           lay with all four legs relaxed"
      ]
     },
     "execution_count": 14,
     "metadata": {},
     "output_type": "execute_result"
    }
   ],
   "source": [
    "training = query_to_list_of_dicts(session.query(Training))\n",
    "# for display purposes only\n",
    "pd.DataFrame(training)"
   ]
  },
  {
   "cell_type": "code",
   "execution_count": 15,
   "metadata": {},
   "outputs": [
    {
     "data": {
      "text/html": [
       "<div>\n",
       "<style scoped>\n",
       "    .dataframe tbody tr th:only-of-type {\n",
       "        vertical-align: middle;\n",
       "    }\n",
       "\n",
       "    .dataframe tbody tr th {\n",
       "        vertical-align: top;\n",
       "    }\n",
       "\n",
       "    .dataframe thead th {\n",
       "        text-align: right;\n",
       "    }\n",
       "</style>\n",
       "<table border=\"1\" class=\"dataframe\">\n",
       "  <thead>\n",
       "    <tr style=\"text-align: right;\">\n",
       "      <th></th>\n",
       "      <th>pet_id</th>\n",
       "      <th>task_id</th>\n",
       "      <th>grade</th>\n",
       "      <th>comments</th>\n",
       "    </tr>\n",
       "  </thead>\n",
       "  <tbody>\n",
       "    <tr>\n",
       "      <th>0</th>\n",
       "      <td>1</td>\n",
       "      <td>1</td>\n",
       "      <td>A</td>\n",
       "      <td>good</td>\n",
       "    </tr>\n",
       "    <tr>\n",
       "      <th>1</th>\n",
       "      <td>1</td>\n",
       "      <td>2</td>\n",
       "      <td>A-</td>\n",
       "      <td>quick but needed \"do a good one\"</td>\n",
       "    </tr>\n",
       "    <tr>\n",
       "      <th>2</th>\n",
       "      <td>1</td>\n",
       "      <td>3</td>\n",
       "      <td>B</td>\n",
       "      <td>weak attempt</td>\n",
       "    </tr>\n",
       "    <tr>\n",
       "      <th>3</th>\n",
       "      <td>1</td>\n",
       "      <td>4</td>\n",
       "      <td>B</td>\n",
       "      <td>quiet</td>\n",
       "    </tr>\n",
       "    <tr>\n",
       "      <th>4</th>\n",
       "      <td>1</td>\n",
       "      <td>5</td>\n",
       "      <td>C</td>\n",
       "      <td>reluctant</td>\n",
       "    </tr>\n",
       "    <tr>\n",
       "      <th>5</th>\n",
       "      <td>2</td>\n",
       "      <td>1</td>\n",
       "      <td>B</td>\n",
       "      <td>required butt bump</td>\n",
       "    </tr>\n",
       "    <tr>\n",
       "      <th>6</th>\n",
       "      <td>2</td>\n",
       "      <td>2</td>\n",
       "      <td>B-</td>\n",
       "      <td>more of a swoon</td>\n",
       "    </tr>\n",
       "    <tr>\n",
       "      <th>7</th>\n",
       "      <td>2</td>\n",
       "      <td>4</td>\n",
       "      <td>A</td>\n",
       "      <td>loud and deep</td>\n",
       "    </tr>\n",
       "    <tr>\n",
       "      <th>8</th>\n",
       "      <td>2</td>\n",
       "      <td>5</td>\n",
       "      <td>A</td>\n",
       "      <td>good</td>\n",
       "    </tr>\n",
       "  </tbody>\n",
       "</table>\n",
       "</div>"
      ],
      "text/plain": [
       "   pet_id  task_id grade                          comments\n",
       "0       1        1     A                              good\n",
       "1       1        2    A-  quick but needed \"do a good one\"\n",
       "2       1        3     B                      weak attempt\n",
       "3       1        4     B                             quiet\n",
       "4       1        5     C                         reluctant\n",
       "5       2        1     B                required butt bump\n",
       "6       2        2    B-                   more of a swoon\n",
       "7       2        4     A                     loud and deep\n",
       "8       2        5     A                              good"
      ]
     },
     "execution_count": 15,
     "metadata": {},
     "output_type": "execute_result"
    }
   ],
   "source": [
    "grades = query_to_list_of_dicts(session.query(Grades))\n",
    "# for display purposes only\n",
    "pd.DataFrame(grades)"
   ]
  },
  {
   "cell_type": "markdown",
   "metadata": {},
   "source": [
    "# Basic Join"
   ]
  },
  {
   "cell_type": "markdown",
   "metadata": {},
   "source": [
    "## Engine Inner Join"
   ]
  },
  {
   "cell_type": "code",
   "execution_count": 16,
   "metadata": {},
   "outputs": [
    {
     "data": {
      "text/plain": [
       "[(1, 'Patterson', 11, 'Corgi', '8 weeks', 1, 1, 'A', 'good'),\n",
       " (1, 'Patterson', 11, 'Corgi', '8 weeks', 1, 2, 'A-', 'quick but needed \"do a good one\"'),\n",
       " (1, 'Patterson', 11, 'Corgi', '8 weeks', 1, 3, 'B', 'weak attempt'),\n",
       " (1, 'Patterson', 11, 'Corgi', '8 weeks', 1, 4, 'B', 'quiet'),\n",
       " (1, 'Patterson', 11, 'Corgi', '8 weeks', 1, 5, 'C', 'reluctant'),\n",
       " (2, 'Judson', 10, 'Corgi', '3 years', 2, 1, 'B', 'required butt bump'),\n",
       " (2, 'Judson', 10, 'Corgi', '3 years', 2, 2, 'B-', 'more of a swoon'),\n",
       " (2, 'Judson', 10, 'Corgi', '3 years', 2, 4, 'A', 'loud and deep'),\n",
       " (2, 'Judson', 10, 'Corgi', '3 years', 2, 5, 'A', 'good')]"
      ]
     },
     "execution_count": 16,
     "metadata": {},
     "output_type": "execute_result"
    }
   ],
   "source": [
    "inner_join_sql = \"\"\"\n",
    "select p.*, g.* \n",
    "from pets p \n",
    "join grades g on p.id = g.pet_id\n",
    "\"\"\"\n",
    "engine.execute(inner_join_sql).fetchall()"
   ]
  },
  {
   "cell_type": "markdown",
   "metadata": {},
   "source": [
    "## ORM Inner Join"
   ]
  },
  {
   "cell_type": "code",
   "execution_count": 17,
   "metadata": {},
   "outputs": [
    {
     "data": {
      "text/html": [
       "<div>\n",
       "<style scoped>\n",
       "    .dataframe tbody tr th:only-of-type {\n",
       "        vertical-align: middle;\n",
       "    }\n",
       "\n",
       "    .dataframe tbody tr th {\n",
       "        vertical-align: top;\n",
       "    }\n",
       "\n",
       "    .dataframe thead th {\n",
       "        text-align: right;\n",
       "    }\n",
       "</style>\n",
       "<table border=\"1\" class=\"dataframe\">\n",
       "  <thead>\n",
       "    <tr style=\"text-align: right;\">\n",
       "      <th></th>\n",
       "      <th>id</th>\n",
       "      <th>name</th>\n",
       "      <th>age</th>\n",
       "      <th>breed</th>\n",
       "      <th>age_adopted</th>\n",
       "      <th>pet_id</th>\n",
       "      <th>task_id</th>\n",
       "      <th>grade</th>\n",
       "      <th>comments</th>\n",
       "    </tr>\n",
       "  </thead>\n",
       "  <tbody>\n",
       "    <tr>\n",
       "      <th>0</th>\n",
       "      <td>1</td>\n",
       "      <td>Patterson</td>\n",
       "      <td>11</td>\n",
       "      <td>Corgi</td>\n",
       "      <td>8 weeks</td>\n",
       "      <td>1</td>\n",
       "      <td>1</td>\n",
       "      <td>A</td>\n",
       "      <td>good</td>\n",
       "    </tr>\n",
       "    <tr>\n",
       "      <th>1</th>\n",
       "      <td>1</td>\n",
       "      <td>Patterson</td>\n",
       "      <td>11</td>\n",
       "      <td>Corgi</td>\n",
       "      <td>8 weeks</td>\n",
       "      <td>1</td>\n",
       "      <td>2</td>\n",
       "      <td>A-</td>\n",
       "      <td>quick but needed \"do a good one\"</td>\n",
       "    </tr>\n",
       "    <tr>\n",
       "      <th>2</th>\n",
       "      <td>1</td>\n",
       "      <td>Patterson</td>\n",
       "      <td>11</td>\n",
       "      <td>Corgi</td>\n",
       "      <td>8 weeks</td>\n",
       "      <td>1</td>\n",
       "      <td>3</td>\n",
       "      <td>B</td>\n",
       "      <td>weak attempt</td>\n",
       "    </tr>\n",
       "    <tr>\n",
       "      <th>3</th>\n",
       "      <td>1</td>\n",
       "      <td>Patterson</td>\n",
       "      <td>11</td>\n",
       "      <td>Corgi</td>\n",
       "      <td>8 weeks</td>\n",
       "      <td>1</td>\n",
       "      <td>4</td>\n",
       "      <td>B</td>\n",
       "      <td>quiet</td>\n",
       "    </tr>\n",
       "    <tr>\n",
       "      <th>4</th>\n",
       "      <td>1</td>\n",
       "      <td>Patterson</td>\n",
       "      <td>11</td>\n",
       "      <td>Corgi</td>\n",
       "      <td>8 weeks</td>\n",
       "      <td>1</td>\n",
       "      <td>5</td>\n",
       "      <td>C</td>\n",
       "      <td>reluctant</td>\n",
       "    </tr>\n",
       "    <tr>\n",
       "      <th>5</th>\n",
       "      <td>2</td>\n",
       "      <td>Judson</td>\n",
       "      <td>10</td>\n",
       "      <td>Corgi</td>\n",
       "      <td>3 years</td>\n",
       "      <td>2</td>\n",
       "      <td>1</td>\n",
       "      <td>B</td>\n",
       "      <td>required butt bump</td>\n",
       "    </tr>\n",
       "    <tr>\n",
       "      <th>6</th>\n",
       "      <td>2</td>\n",
       "      <td>Judson</td>\n",
       "      <td>10</td>\n",
       "      <td>Corgi</td>\n",
       "      <td>3 years</td>\n",
       "      <td>2</td>\n",
       "      <td>2</td>\n",
       "      <td>B-</td>\n",
       "      <td>more of a swoon</td>\n",
       "    </tr>\n",
       "    <tr>\n",
       "      <th>7</th>\n",
       "      <td>2</td>\n",
       "      <td>Judson</td>\n",
       "      <td>10</td>\n",
       "      <td>Corgi</td>\n",
       "      <td>3 years</td>\n",
       "      <td>2</td>\n",
       "      <td>4</td>\n",
       "      <td>A</td>\n",
       "      <td>loud and deep</td>\n",
       "    </tr>\n",
       "    <tr>\n",
       "      <th>8</th>\n",
       "      <td>2</td>\n",
       "      <td>Judson</td>\n",
       "      <td>10</td>\n",
       "      <td>Corgi</td>\n",
       "      <td>3 years</td>\n",
       "      <td>2</td>\n",
       "      <td>5</td>\n",
       "      <td>A</td>\n",
       "      <td>good</td>\n",
       "    </tr>\n",
       "  </tbody>\n",
       "</table>\n",
       "</div>"
      ],
      "text/plain": [
       "   id       name  age  breed age_adopted  pet_id  task_id grade  \\\n",
       "0   1  Patterson   11  Corgi     8 weeks       1        1     A   \n",
       "1   1  Patterson   11  Corgi     8 weeks       1        2    A-   \n",
       "2   1  Patterson   11  Corgi     8 weeks       1        3     B   \n",
       "3   1  Patterson   11  Corgi     8 weeks       1        4     B   \n",
       "4   1  Patterson   11  Corgi     8 weeks       1        5     C   \n",
       "5   2     Judson   10  Corgi     3 years       2        1     B   \n",
       "6   2     Judson   10  Corgi     3 years       2        2    B-   \n",
       "7   2     Judson   10  Corgi     3 years       2        4     A   \n",
       "8   2     Judson   10  Corgi     3 years       2        5     A   \n",
       "\n",
       "                           comments  \n",
       "0                              good  \n",
       "1  quick but needed \"do a good one\"  \n",
       "2                      weak attempt  \n",
       "3                             quiet  \n",
       "4                         reluctant  \n",
       "5                required butt bump  \n",
       "6                   more of a swoon  \n",
       "7                     loud and deep  \n",
       "8                              good  "
      ]
     },
     "execution_count": 17,
     "metadata": {},
     "output_type": "execute_result"
    }
   ],
   "source": [
    "results = session.query(Pets, Grades).filter(Pets.id == Grades.pet_id)\n",
    "pd.DataFrame(query_to_list_of_dicts(results))"
   ]
  },
  {
   "cell_type": "markdown",
   "metadata": {},
   "source": [
    "# Outer Joins\n",
    "\n",
    "## Engine Version\n",
    "\n",
    "Note the \"None\" values in the cells"
   ]
  },
  {
   "cell_type": "code",
   "execution_count": 18,
   "metadata": {},
   "outputs": [
    {
     "data": {
      "text/plain": [
       "[(1, 'Patterson', 11, 'Corgi', '8 weeks', 1, 1, 'A', 'good'),\n",
       " (1, 'Patterson', 11, 'Corgi', '8 weeks', 1, 2, 'A-', 'quick but needed \"do a good one\"'),\n",
       " (1, 'Patterson', 11, 'Corgi', '8 weeks', 1, 3, 'B', 'weak attempt'),\n",
       " (1, 'Patterson', 11, 'Corgi', '8 weeks', 1, 4, 'B', 'quiet'),\n",
       " (1, 'Patterson', 11, 'Corgi', '8 weeks', 1, 5, 'C', 'reluctant'),\n",
       " (2, 'Judson', 10, 'Corgi', '3 years', 2, 1, 'B', 'required butt bump'),\n",
       " (2, 'Judson', 10, 'Corgi', '3 years', 2, 2, 'B-', 'more of a swoon'),\n",
       " (2, 'Judson', 10, 'Corgi', '3 years', 2, 4, 'A', 'loud and deep'),\n",
       " (2, 'Judson', 10, 'Corgi', '3 years', 2, 5, 'A', 'good'),\n",
       " (3, 'Emily', '?', 'Corgi', None, None, None, None, None)]"
      ]
     },
     "execution_count": 18,
     "metadata": {},
     "output_type": "execute_result"
    }
   ],
   "source": [
    "outer_join_sql = \"\"\"\n",
    "select p.*, g.* \n",
    "from pets p \n",
    "left join grades g on p.id = g.pet_id\n",
    "\"\"\"\n",
    "engine.execute(outer_join_sql).fetchall()"
   ]
  },
  {
   "cell_type": "markdown",
   "metadata": {},
   "source": [
    "## ORM Outer Join\n",
    "\n",
    "Note how the \"None\" type creates challenges that must be addressed.\n",
    "\n",
    "Currently the query_to_list_of_dicts function breaks upon None types."
   ]
  },
  {
   "cell_type": "code",
   "execution_count": 19,
   "metadata": {},
   "outputs": [
    {
     "name": "stdout",
     "output_type": "stream",
     "text": [
      "Pet: Patterson received an A on task: 1\n",
      "Pet: Patterson received an A- on task: 2\n",
      "Pet: Patterson received an B on task: 3\n",
      "Pet: Patterson received an B on task: 4\n",
      "Pet: Patterson received an C on task: 5\n",
      "Pet: Judson received an B on task: 1\n",
      "Pet: Judson received an B- on task: 2\n",
      "Pet: Judson received an A on task: 4\n",
      "Pet: Judson received an A on task: 5\n",
      "Pet: Emily has taken no training to be graded\n"
     ]
    }
   ],
   "source": [
    "results = session.query(Pets, Grades).outerjoin(Grades, Pets.id == Grades.pet_id).all()\n",
    "for pet, grade in results:\n",
    "    if grade != None:\n",
    "        print(f\"Pet: {pet.name} received an {grade.grade} on task: {grade.task_id}\")\n",
    "    else:\n",
    "        print(f\"Pet: {pet.name} has taken no training to be graded\")\n"
   ]
  },
  {
   "cell_type": "code",
   "execution_count": 20,
   "metadata": {},
   "outputs": [],
   "source": [
    "# always clean up after yourself\n",
    "session.close()"
   ]
  }
 ],
 "metadata": {
  "kernelspec": {
   "display_name": "Python 3",
   "language": "python",
   "name": "python3"
  },
  "language_info": {
   "codemirror_mode": {
    "name": "ipython",
    "version": 3
   },
   "file_extension": ".py",
   "mimetype": "text/x-python",
   "name": "python",
   "nbconvert_exporter": "python",
   "pygments_lexer": "ipython3",
   "version": "3.7.6"
  }
 },
 "nbformat": 4,
 "nbformat_minor": 4
}
