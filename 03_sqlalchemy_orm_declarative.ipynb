{
 "cells": [
  {
   "cell_type": "markdown",
   "metadata": {},
   "source": [
    "# SQLAlchemy ORM Declarative\n",
    "\n",
    "### Here we \"declare\" our class tables.\n",
    "\n",
    "We define a class for every table in the database.  \n",
    "\n",
    "This of course is awesome for creating databases"
   ]
  },
  {
   "cell_type": "code",
   "execution_count": 2,
   "metadata": {},
   "outputs": [],
   "source": [
    "# Dependencies\n",
    "# ----------------------------------\n",
    "from sqlalchemy import create_engine\n",
    "from sqlalchemy.ext.declarative import declarative_base\n",
    "from sqlalchemy import Column, Integer, String, Float\n",
    "from sqlalchemy.orm import Session\n",
    "from sqlalchemy import func"
   ]
  },
  {
   "cell_type": "code",
   "execution_count": 3,
   "metadata": {},
   "outputs": [],
   "source": [
    "# create declarative base\n",
    "Base = declarative_base()"
   ]
  },
  {
   "cell_type": "code",
   "execution_count": 4,
   "metadata": {},
   "outputs": [
    {
     "data": {
      "text/plain": [
       "immutabledict({})"
      ]
     },
     "execution_count": 4,
     "metadata": {},
     "output_type": "execute_result"
    }
   ],
   "source": [
    "# tables yet?\n",
    "Base.metadata.tables"
   ]
  },
  {
   "cell_type": "code",
   "execution_count": 5,
   "metadata": {},
   "outputs": [],
   "source": [
    "# connect to database\n",
    "db_path = \"pets.db\"\n",
    "engine = create_engine(f\"sqlite:///{db_path}\")\n",
    "conn = engine.connect()"
   ]
  },
  {
   "cell_type": "code",
   "execution_count": 6,
   "metadata": {},
   "outputs": [],
   "source": [
    "# Now let's create our classes that mirror our desired tables\n",
    "# ----------------------------------\n",
    "class Dog(Base):\n",
    "    __tablename__ = 'dog'\n",
    "    id = Column(Integer, primary_key=True)\n",
    "    name = Column(String(255))\n",
    "    color = Column(String(255))\n",
    "    age = Column(Integer)\n",
    "    \n",
    "\n",
    "class Cat(Base):\n",
    "    __tablename__ = 'cat'\n",
    "    id = Column(Integer, primary_key=True)\n",
    "    name = Column(String(255))\n",
    "    color = Column(String(255))\n",
    "    age = Column(Integer)    "
   ]
  },
  {
   "cell_type": "code",
   "execution_count": 7,
   "metadata": {},
   "outputs": [],
   "source": [
    "# Create a \"Metadata\" Layer That Abstracts our SQL Database\n",
    "# ----------------------------------\n",
    "Base.metadata.create_all(engine)\n",
    "\n",
    "# Use this to clear out the db\n",
    "# ----------------------------------\n",
    "# Base.metadata.drop_all(engine)"
   ]
  },
  {
   "cell_type": "code",
   "execution_count": 8,
   "metadata": {},
   "outputs": [
    {
     "data": {
      "text/plain": [
       "immutabledict({'dog': Table('dog', MetaData(bind=None), Column('id', Integer(), table=<dog>, primary_key=True, nullable=False), Column('name', String(length=255), table=<dog>), Column('color', String(length=255), table=<dog>), Column('age', Integer(), table=<dog>), schema=None), 'cat': Table('cat', MetaData(bind=None), Column('id', Integer(), table=<cat>, primary_key=True, nullable=False), Column('name', String(length=255), table=<cat>), Column('color', String(length=255), table=<cat>), Column('age', Integer(), table=<cat>), schema=None)})"
      ]
     },
     "execution_count": 8,
     "metadata": {},
     "output_type": "execute_result"
    }
   ],
   "source": [
    "# current in memory tables\n",
    "Base.metadata.tables"
   ]
  },
  {
   "cell_type": "code",
   "execution_count": 9,
   "metadata": {},
   "outputs": [],
   "source": [
    "# orm requires session so rollbacks can occur etc.\n",
    "session = Session(bind=engine)"
   ]
  },
  {
   "cell_type": "code",
   "execution_count": 10,
   "metadata": {},
   "outputs": [
    {
     "data": {
      "text/plain": [
       "['_Session__binds',\n",
       " '__class__',\n",
       " '__contains__',\n",
       " '__delattr__',\n",
       " '__dict__',\n",
       " '__dir__',\n",
       " '__doc__',\n",
       " '__eq__',\n",
       " '__format__',\n",
       " '__ge__',\n",
       " '__getattribute__',\n",
       " '__gt__',\n",
       " '__hash__',\n",
       " '__init__',\n",
       " '__init_subclass__',\n",
       " '__iter__',\n",
       " '__le__',\n",
       " '__lt__',\n",
       " '__module__',\n",
       " '__ne__',\n",
       " '__new__',\n",
       " '__reduce__',\n",
       " '__reduce_ex__',\n",
       " '__repr__',\n",
       " '__setattr__',\n",
       " '__sizeof__',\n",
       " '__str__',\n",
       " '__subclasshook__',\n",
       " '__weakref__',\n",
       " '_add_bind',\n",
       " '_after_attach',\n",
       " '_autoflush',\n",
       " '_before_attach',\n",
       " '_bulk_save_mappings',\n",
       " '_close_impl',\n",
       " '_conditional_expire',\n",
       " '_connection_for_bind',\n",
       " '_contains_state',\n",
       " '_delete_impl',\n",
       " '_deleted',\n",
       " '_dirty_states',\n",
       " '_enable_transaction_accounting',\n",
       " '_expire_state',\n",
       " '_expunge_states',\n",
       " '_flush',\n",
       " '_flush_warning',\n",
       " '_flushing',\n",
       " '_identity_cls',\n",
       " '_is_clean',\n",
       " '_merge',\n",
       " '_new',\n",
       " '_query_cls',\n",
       " '_register_altered',\n",
       " '_register_persistent',\n",
       " '_remove_newly_deleted',\n",
       " '_save_impl',\n",
       " '_save_or_update_impl',\n",
       " '_save_or_update_state',\n",
       " '_update_impl',\n",
       " '_validate_persistent',\n",
       " '_warn_on_events',\n",
       " 'add',\n",
       " 'add_all',\n",
       " 'autocommit',\n",
       " 'autoflush',\n",
       " 'begin',\n",
       " 'begin_nested',\n",
       " 'bind',\n",
       " 'bind_mapper',\n",
       " 'bind_table',\n",
       " 'bulk_insert_mappings',\n",
       " 'bulk_save_objects',\n",
       " 'bulk_update_mappings',\n",
       " 'close',\n",
       " 'close_all',\n",
       " 'commit',\n",
       " 'connection',\n",
       " 'connection_callable',\n",
       " 'delete',\n",
       " 'deleted',\n",
       " 'dirty',\n",
       " 'dispatch',\n",
       " 'enable_baked_queries',\n",
       " 'enable_relationship_loading',\n",
       " 'execute',\n",
       " 'expire',\n",
       " 'expire_all',\n",
       " 'expire_on_commit',\n",
       " 'expunge',\n",
       " 'expunge_all',\n",
       " 'flush',\n",
       " 'get_bind',\n",
       " 'hash_key',\n",
       " 'identity_key',\n",
       " 'identity_map',\n",
       " 'info',\n",
       " 'invalidate',\n",
       " 'is_active',\n",
       " 'is_modified',\n",
       " 'merge',\n",
       " 'new',\n",
       " 'no_autoflush',\n",
       " 'object_session',\n",
       " 'prepare',\n",
       " 'prune',\n",
       " 'public_methods',\n",
       " 'query',\n",
       " 'refresh',\n",
       " 'rollback',\n",
       " 'scalar',\n",
       " 'transaction',\n",
       " 'twophase']"
      ]
     },
     "execution_count": 10,
     "metadata": {},
     "output_type": "execute_result"
    }
   ],
   "source": [
    "dir(session)"
   ]
  },
  {
   "cell_type": "markdown",
   "metadata": {},
   "source": [
    "### State of the current session"
   ]
  },
  {
   "cell_type": "code",
   "execution_count": 11,
   "metadata": {},
   "outputs": [
    {
     "data": {
      "text/plain": [
       "IdentitySet([])"
      ]
     },
     "execution_count": 11,
     "metadata": {},
     "output_type": "execute_result"
    }
   ],
   "source": [
    "# any updates pending?\n",
    "session.dirty"
   ]
  },
  {
   "cell_type": "code",
   "execution_count": 12,
   "metadata": {},
   "outputs": [
    {
     "data": {
      "text/plain": [
       "IdentitySet([])"
      ]
     },
     "execution_count": 12,
     "metadata": {},
     "output_type": "execute_result"
    }
   ],
   "source": [
    "# any inserts pending?\n",
    "session.new"
   ]
  },
  {
   "cell_type": "markdown",
   "metadata": {},
   "source": [
    "## Create with Classes and Add"
   ]
  },
  {
   "cell_type": "code",
   "execution_count": 13,
   "metadata": {},
   "outputs": [],
   "source": [
    "# create instances of the new classes\n",
    "patterson = Dog(name='Patterson', color='white & red', age=11)\n",
    "judson = Dog(name='Judson', color='white & red', age=10)\n",
    "tobi = Cat(name='Tobi', color='orange', age=14)\n",
    "oliver = Cat(name='Oliver', color='orange', age=12)"
   ]
  },
  {
   "cell_type": "code",
   "execution_count": 14,
   "metadata": {},
   "outputs": [],
   "source": [
    "# add one item\n",
    "session.add(patterson)"
   ]
  },
  {
   "cell_type": "markdown",
   "metadata": {},
   "source": [
    "### Now let's see what the session looks like"
   ]
  },
  {
   "cell_type": "code",
   "execution_count": 15,
   "metadata": {},
   "outputs": [
    {
     "name": "stdout",
     "output_type": "stream",
     "text": [
      "new:\n",
      " IdentitySet([<__main__.Dog object at 0x000001B4B2A2FD08>]) \n",
      "dirty:\n",
      " IdentitySet([])\n"
     ]
    }
   ],
   "source": [
    "print(\"new:\\n\", session.new, \"\\ndirty:\\n\", session.dirty)"
   ]
  },
  {
   "cell_type": "markdown",
   "metadata": {},
   "source": [
    "### Now let's bulk add"
   ]
  },
  {
   "cell_type": "code",
   "execution_count": 17,
   "metadata": {},
   "outputs": [],
   "source": [
    "session.add_all([judson, tobi, oliver])"
   ]
  },
  {
   "cell_type": "markdown",
   "metadata": {},
   "source": [
    "### Now let's see what the session looks like after all adds"
   ]
  },
  {
   "cell_type": "code",
   "execution_count": 18,
   "metadata": {},
   "outputs": [
    {
     "name": "stdout",
     "output_type": "stream",
     "text": [
      "new:\n",
      " IdentitySet([<__main__.Dog object at 0x000001B4B2A2FD08>, <__main__.Dog object at 0x000001B4B2A1E588>, <__main__.Cat object at 0x000001B4B2A29208>, <__main__.Cat object at 0x000001B4B2A1ED88>]) \n",
      "dirty:\n",
      " IdentitySet([])\n"
     ]
    }
   ],
   "source": [
    "print(\"new:\\n\", session.new, \"\\ndirty:\\n\", session.dirty)"
   ]
  },
  {
   "cell_type": "markdown",
   "metadata": {},
   "source": [
    "### Commit and inspect"
   ]
  },
  {
   "cell_type": "code",
   "execution_count": 19,
   "metadata": {},
   "outputs": [
    {
     "name": "stdout",
     "output_type": "stream",
     "text": [
      "new:\n",
      " IdentitySet([]) \n",
      "dirty:\n",
      " IdentitySet([])\n"
     ]
    }
   ],
   "source": [
    "session.commit()\n",
    "print(\"new:\\n\", session.new, \"\\ndirty:\\n\", session.dirty)"
   ]
  },
  {
   "cell_type": "markdown",
   "metadata": {},
   "source": [
    "## Read with Query"
   ]
  },
  {
   "cell_type": "code",
   "execution_count": 20,
   "metadata": {},
   "outputs": [
    {
     "name": "stdout",
     "output_type": "stream",
     "text": [
      "Help on method query in module sqlalchemy.orm.session:\n",
      "\n",
      "query(*entities, **kwargs) method of sqlalchemy.orm.session.Session instance\n",
      "    Return a new :class:`.Query` object corresponding to this\n",
      "    :class:`.Session`.\n",
      "\n"
     ]
    }
   ],
   "source": [
    "help(session.query)"
   ]
  },
  {
   "cell_type": "code",
   "execution_count": 21,
   "metadata": {
    "scrolled": true
   },
   "outputs": [
    {
     "name": "stdout",
     "output_type": "stream",
     "text": [
      "Tobi\n",
      "Oliver\n"
     ]
    }
   ],
   "source": [
    "# simple query of full table\n",
    "cats = session.query(Cat)\n",
    "for cat in cats:\n",
    "    print(cat.name)"
   ]
  },
  {
   "cell_type": "code",
   "execution_count": 22,
   "metadata": {},
   "outputs": [
    {
     "data": {
      "text/plain": [
       "[('Tobi', 14), ('Oliver', 12)]"
      ]
     },
     "execution_count": 22,
     "metadata": {},
     "output_type": "execute_result"
    }
   ],
   "source": [
    "# return a tuple list like fetchall() with engine\n",
    "session.query(Cat.name, Cat.age).all()"
   ]
  },
  {
   "cell_type": "code",
   "execution_count": 32,
   "metadata": {},
   "outputs": [
    {
     "name": "stdout",
     "output_type": "stream",
     "text": [
      "Judson\n",
      "Patterson\n"
     ]
    }
   ],
   "source": [
    "# most sql clauses have mathing function calls on session.query\n",
    "dogs = session.query(Dog).order_by(Dog.name)\n",
    "for dog in dogs:\n",
    "    print(dog.name)"
   ]
  },
  {
   "cell_type": "code",
   "execution_count": 40,
   "metadata": {},
   "outputs": [
    {
     "name": "stdout",
     "output_type": "stream",
     "text": [
      "Patterson\n"
     ]
    }
   ],
   "source": [
    "# filter_by uses property operator value ( note single = [like sql does])\n",
    "dogs = session.query(Dog).filter_by(name='Patterson')\n",
    "for dog in dogs:\n",
    "    print(dog.name)"
   ]
  },
  {
   "cell_type": "code",
   "execution_count": 41,
   "metadata": {},
   "outputs": [
    {
     "name": "stdout",
     "output_type": "stream",
     "text": [
      "Patterson\n"
     ]
    }
   ],
   "source": [
    "# filter uses Class.property notation and == [more Pythonic]\n",
    "dogs = session.query(Dog).filter(Dog.name=='Patterson')\n",
    "for dog in dogs:\n",
    "    print(dog.name)"
   ]
  },
  {
   "cell_type": "code",
   "execution_count": 43,
   "metadata": {},
   "outputs": [
    {
     "name": "stdout",
     "output_type": "stream",
     "text": [
      "Patterson is 11 years old\n",
      "Judson is 10 years old\n"
     ]
    }
   ],
   "source": [
    "# you can query just columns\n",
    "for name, age in session.query(Dog.name, Dog.age):\n",
    "    print(f\"{name} is {age} years old\")"
   ]
  },
  {
   "cell_type": "code",
   "execution_count": 44,
   "metadata": {},
   "outputs": [
    {
     "data": {
      "text/plain": [
       "2"
      ]
     },
     "execution_count": 44,
     "metadata": {},
     "output_type": "execute_result"
    }
   ],
   "source": [
    "# getting counts\n",
    "session.query(Dog).count()"
   ]
  },
  {
   "cell_type": "code",
   "execution_count": 47,
   "metadata": {},
   "outputs": [
    {
     "data": {
      "text/plain": [
       "2"
      ]
     },
     "execution_count": 47,
     "metadata": {},
     "output_type": "execute_result"
    }
   ],
   "source": [
    "# using functions i.e  select count(*) = func.count\n",
    "session.query(func.count('*')).select_from(Dog).scalar()"
   ]
  },
  {
   "cell_type": "code",
   "execution_count": 59,
   "metadata": {},
   "outputs": [
    {
     "data": {
      "text/plain": [
       "10.5"
      ]
     },
     "execution_count": 59,
     "metadata": {},
     "output_type": "execute_result"
    }
   ],
   "source": [
    "# average age of all dogs\n",
    "session.query(func.avg(Dog.age)).scalar()"
   ]
  },
  {
   "cell_type": "markdown",
   "metadata": {},
   "source": [
    "## Update with Query & standard instance updating\n",
    "\n",
    "updates and deletes first require a query to load the object in the session"
   ]
  },
  {
   "cell_type": "code",
   "execution_count": 51,
   "metadata": {},
   "outputs": [
    {
     "name": "stdout",
     "output_type": "stream",
     "text": [
      "<__main__.Cat object at 0x000002AA3A0B6FC8> 12\n"
     ]
    }
   ],
   "source": [
    "oliver = session.query(Cat).filter_by(name='Oliver').first()\n",
    "print(oliver, oliver.age)"
   ]
  },
  {
   "cell_type": "code",
   "execution_count": 52,
   "metadata": {},
   "outputs": [
    {
     "name": "stdout",
     "output_type": "stream",
     "text": [
      "new:\n",
      " IdentitySet([]) \n",
      "dirty:\n",
      " IdentitySet([])\n"
     ]
    }
   ],
   "source": [
    "# current state\n",
    "print(\"new:\\n\", session.new, \"\\ndirty:\\n\", session.dirty)"
   ]
  },
  {
   "cell_type": "code",
   "execution_count": 53,
   "metadata": {},
   "outputs": [],
   "source": [
    "# update object\n",
    "oliver.age = 13"
   ]
  },
  {
   "cell_type": "code",
   "execution_count": 54,
   "metadata": {},
   "outputs": [
    {
     "name": "stdout",
     "output_type": "stream",
     "text": [
      "new:\n",
      " IdentitySet([]) \n",
      "dirty:\n",
      " IdentitySet([<__main__.Cat object at 0x000002AA3A0B6FC8>])\n"
     ]
    }
   ],
   "source": [
    "# current state ( dirty changes once object updated)\n",
    "print(\"new:\\n\", session.new, \"\\ndirty:\\n\", session.dirty)"
   ]
  },
  {
   "cell_type": "code",
   "execution_count": 60,
   "metadata": {},
   "outputs": [
    {
     "name": "stdout",
     "output_type": "stream",
     "text": [
      "new:\n",
      " IdentitySet([]) \n",
      "dirty:\n",
      " IdentitySet([])\n"
     ]
    },
    {
     "data": {
      "text/plain": [
       "[(1, 'Tobi', 'orange', 14), (2, 'Oliver', 'orange', 13)]"
      ]
     },
     "execution_count": 60,
     "metadata": {},
     "output_type": "execute_result"
    }
   ],
   "source": [
    "session.commit()\n",
    "# current state\n",
    "print(\"new:\\n\", session.new, \"\\ndirty:\\n\", session.dirty)\n",
    "engine.execute(\"select * from cat\").fetchall()"
   ]
  },
  {
   "cell_type": "markdown",
   "metadata": {},
   "source": [
    "## Delete with Query and delete"
   ]
  },
  {
   "cell_type": "code",
   "execution_count": 72,
   "metadata": {},
   "outputs": [
    {
     "data": {
      "text/plain": [
       "[(1, 'Tobi', 'orange', 14), (2, 'Oliver', 'orange', 13)]"
      ]
     },
     "execution_count": 72,
     "metadata": {},
     "output_type": "execute_result"
    }
   ],
   "source": [
    "engine.execute(\"select * from cat\").fetchall()"
   ]
  },
  {
   "cell_type": "code",
   "execution_count": 86,
   "metadata": {},
   "outputs": [],
   "source": [
    "# don't post changes\n",
    "# session.rollback()"
   ]
  },
  {
   "cell_type": "code",
   "execution_count": 87,
   "metadata": {},
   "outputs": [
    {
     "name": "stdout",
     "output_type": "stream",
     "text": [
      "new:\n",
      " IdentitySet([]) \n",
      "dirty:\n",
      " IdentitySet([]) \n",
      "deleted:\n",
      " IdentitySet([])\n"
     ]
    }
   ],
   "source": [
    "cat = session.query(Cat).filter(Cat.id == 1).delete()"
   ]
  },
  {
   "cell_type": "code",
   "execution_count": 89,
   "metadata": {},
   "outputs": [
    {
     "data": {
      "text/plain": [
       "[(2, 'Oliver', 'orange', 13)]"
      ]
     },
     "execution_count": 89,
     "metadata": {},
     "output_type": "execute_result"
    }
   ],
   "source": [
    "session.commit()\n",
    "engine.execute(\"select * from cat\").fetchall()"
   ]
  },
  {
   "cell_type": "code",
   "execution_count": 93,
   "metadata": {},
   "outputs": [],
   "source": [
    "session.close()"
   ]
  },
  {
   "cell_type": "raw",
   "metadata": {},
   "source": [
    "More query information provided by Kenn:\n",
    "\n",
    "# EQUAL NONE\n",
    "#players = session.query(BaseballPlayer).filter(BaseballPlayer.name_last == None)\n",
    "\n",
    "# EQUAL\n",
    "#players = session.query(BaseballPlayer).filter(BaseballPlayer.name_last == 'David')\n",
    "\n",
    "# NOT EQUAL\n",
    "#players = session.query(BaseballPlayer).filter(BaseballPlayer.name_last != 'David')\n",
    "\n",
    "# LIKE\n",
    "#players = session.query(BaseballPlayer).filter(BaseballPlayer.name_last.like('%David%'))\n",
    "\n",
    "# IN\n",
    "#players = session.query(BaseballPlayer).filter(BaseballPlayer.name_first.in_(['David', 'John', 'Ray']))\n",
    "\n",
    "# NOT IN\n",
    "#players = session.query(BaseballPlayer).filter(~BaseballPlayer.name_first.in_(['David', 'John', 'Ray']))\n",
    "\n",
    "# AND\n",
    "#from sqlalchemy import and_\n",
    "#players = session.query(BaseballPlayer).filter(and_(BaseballPlayer.name_first == 'David', BaseballPlayer.name_last == 'Lee'))\n",
    "#players = session.query(BaseballPlayer).filter(BaseballPlayer.name_first == 'David').filter(BaseballPlayer.name_last == 'Lee')\n",
    "\n",
    "# OR\n",
    "#from sqlalchemy import or_\n",
    "#players = session.query(BaseballPlayer).filter(or_(BaseballPlayer.name_first == 'David', BaseballPlayer.name_last == 'Lee'))\n",
    "for player in players:\n",
    "  print(f\"{player.name_given} ({player.name_first} {player.name_last})\") (edited) \n",
    "\n",
    "leeladharan.com\n",
    "SQLAlchemy query with OR/AND/like common filters - Leeladharan Achar - alias - leelu ~ blogging...hola mi amigos..\n",
    "Just Blogging\n",
    "\n",
    "http://www.leeladharan.com/sqlalchemy-query-with-or-and-like-common-filters\n",
    "\n"
   ]
  }
 ],
 "metadata": {
  "kernelspec": {
   "display_name": "Python 3",
   "language": "python",
   "name": "python3"
  },
  "language_info": {
   "codemirror_mode": {
    "name": "ipython",
    "version": 3
   },
   "file_extension": ".py",
   "mimetype": "text/x-python",
   "name": "python",
   "nbconvert_exporter": "python",
   "pygments_lexer": "ipython3",
   "version": "3.7.6"
  }
 },
 "nbformat": 4,
 "nbformat_minor": 4
}
