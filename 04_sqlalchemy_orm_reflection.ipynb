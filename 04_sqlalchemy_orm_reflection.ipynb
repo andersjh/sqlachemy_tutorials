{
 "cells": [
  {
   "cell_type": "markdown",
   "metadata": {},
   "source": [
    "# SQLAlchemy ORM Reflection\n",
    "\n",
    "### Here we \"reflect\" (i.e inspect/read) the design of an existing database.\n",
    "\n",
    "We read what is out there.  \n",
    "\n",
    "This of course is awesome for existing databases.\n",
    "\n",
    "This keeps you from having to manually create classes"
   ]
  },
  {
   "cell_type": "code",
   "execution_count": 1,
   "metadata": {},
   "outputs": [],
   "source": [
    "# dependencies\n",
    "import sqlalchemy\n",
    "from sqlalchemy.ext.automap import automap_base\n",
    "from sqlalchemy.orm import Session\n",
    "from sqlalchemy import create_engine, inspect"
   ]
  },
  {
   "cell_type": "code",
   "execution_count": 2,
   "metadata": {},
   "outputs": [],
   "source": [
    "# connect to database\n",
    "db_path = \"pets.db\"\n",
    "engine = create_engine(f\"sqlite:///{db_path}\")"
   ]
  },
  {
   "cell_type": "markdown",
   "metadata": {},
   "source": [
    "## What if I just want to know what's out there?\n",
    "\n",
    "I don't want to update anything, I just want to be able to see the design"
   ]
  },
  {
   "cell_type": "code",
   "execution_count": 3,
   "metadata": {},
   "outputs": [],
   "source": [
    "# Create the inspector and connect it to the engine\n",
    "inspector = inspect(engine)"
   ]
  },
  {
   "cell_type": "code",
   "execution_count": 4,
   "metadata": {},
   "outputs": [
    {
     "data": {
      "text/plain": [
       "['__class__',\n",
       " '__delattr__',\n",
       " '__dict__',\n",
       " '__dir__',\n",
       " '__doc__',\n",
       " '__eq__',\n",
       " '__format__',\n",
       " '__ge__',\n",
       " '__getattribute__',\n",
       " '__gt__',\n",
       " '__hash__',\n",
       " '__init__',\n",
       " '__init_subclass__',\n",
       " '__le__',\n",
       " '__lt__',\n",
       " '__module__',\n",
       " '__ne__',\n",
       " '__new__',\n",
       " '__reduce__',\n",
       " '__reduce_ex__',\n",
       " '__repr__',\n",
       " '__setattr__',\n",
       " '__sizeof__',\n",
       " '__str__',\n",
       " '__subclasshook__',\n",
       " '__weakref__',\n",
       " '_index_sort_exprs',\n",
       " '_insp',\n",
       " '_reflect_check_constraints',\n",
       " '_reflect_col_sequence',\n",
       " '_reflect_column',\n",
       " '_reflect_fk',\n",
       " '_reflect_indexes',\n",
       " '_reflect_pk',\n",
       " '_reflect_table_comment',\n",
       " '_reflect_unique_constraints',\n",
       " 'bind',\n",
       " 'default_schema_name',\n",
       " 'dialect',\n",
       " 'engine',\n",
       " 'from_engine',\n",
       " 'get_check_constraints',\n",
       " 'get_columns',\n",
       " 'get_foreign_keys',\n",
       " 'get_indexes',\n",
       " 'get_pk_constraint',\n",
       " 'get_primary_keys',\n",
       " 'get_schema_names',\n",
       " 'get_sorted_table_and_fkc_names',\n",
       " 'get_table_comment',\n",
       " 'get_table_names',\n",
       " 'get_table_options',\n",
       " 'get_temp_table_names',\n",
       " 'get_temp_view_names',\n",
       " 'get_unique_constraints',\n",
       " 'get_view_definition',\n",
       " 'get_view_names',\n",
       " 'info_cache',\n",
       " 'reflecttable']"
      ]
     },
     "execution_count": 4,
     "metadata": {},
     "output_type": "execute_result"
    }
   ],
   "source": [
    "# what can inspector do?\n",
    "dir(inspector)"
   ]
  },
  {
   "cell_type": "code",
   "execution_count": 5,
   "metadata": {},
   "outputs": [
    {
     "data": {
      "text/plain": [
       "['cat', 'dog']"
      ]
     },
     "execution_count": 5,
     "metadata": {},
     "output_type": "execute_result"
    }
   ],
   "source": [
    "tables = inspector.get_table_names()\n",
    "tables"
   ]
  },
  {
   "cell_type": "code",
   "execution_count": 6,
   "metadata": {},
   "outputs": [
    {
     "name": "stdout",
     "output_type": "stream",
     "text": [
      "Help on method get_columns in module sqlalchemy.engine.reflection:\n",
      "\n",
      "get_columns(table_name, schema=None, **kw) method of sqlalchemy.engine.reflection.Inspector instance\n",
      "    Return information about columns in `table_name`.\n",
      "    \n",
      "    Given a string `table_name` and an optional string `schema`, return\n",
      "    column information as a list of dicts with these keys:\n",
      "    \n",
      "    * ``name`` - the column's name\n",
      "    \n",
      "    * ``type`` - the type of this column; an instance of\n",
      "      :class:`~sqlalchemy.types.TypeEngine`\n",
      "    \n",
      "    * ``nullable`` - boolean flag if the column is NULL or NOT NULL\n",
      "    \n",
      "    * ``default`` - the column's server default value - this is returned\n",
      "      as a string SQL expression.\n",
      "    \n",
      "    * ``attrs``  - dict containing optional column attributes\n",
      "    \n",
      "    :param table_name: string name of the table.  For special quoting,\n",
      "     use :class:`.quoted_name`.\n",
      "    \n",
      "    :param schema: string schema name; if omitted, uses the default schema\n",
      "     of the database connection.  For special quoting,\n",
      "     use :class:`.quoted_name`.\n",
      "    \n",
      "    :return: list of dictionaries, each representing the definition of\n",
      "     a database column.\n",
      "\n"
     ]
    }
   ],
   "source": [
    "help(inspector.get_columns)"
   ]
  },
  {
   "cell_type": "code",
   "execution_count": 7,
   "metadata": {},
   "outputs": [
    {
     "name": "stdout",
     "output_type": "stream",
     "text": [
      "\n",
      "\n",
      "------------\n",
      "table 'cat' has the following columns:\n",
      "------------\n",
      "name: id   column type: INTEGER\n",
      "name: name   column type: VARCHAR(255)\n",
      "name: color   column type: VARCHAR(255)\n",
      "name: age   column type: INTEGER\n",
      "\n",
      "\n",
      "------------\n",
      "table 'dog' has the following columns:\n",
      "------------\n",
      "name: id   column type: INTEGER\n",
      "name: name   column type: VARCHAR(255)\n",
      "name: color   column type: VARCHAR(255)\n",
      "name: age   column type: INTEGER\n"
     ]
    }
   ],
   "source": [
    "for table in tables:\n",
    "    print(\"\\n\")\n",
    "    print('-' * 12)\n",
    "    print(f\"table '{table}' has the following columns:\")\n",
    "    print('-' * 12)\n",
    "    for column in inspector.get_columns(table):\n",
    "        print(f\"name: {column['name']}   column type: {column['type']}\")\n",
    "        "
   ]
  },
  {
   "cell_type": "markdown",
   "metadata": {},
   "source": [
    "## I NEED MORE POWER !!!!\n",
    "\n",
    "Things have got to change"
   ]
  },
  {
   "cell_type": "code",
   "execution_count": 8,
   "metadata": {},
   "outputs": [],
   "source": [
    "# let's create the base \n",
    "Base = automap_base()"
   ]
  },
  {
   "cell_type": "code",
   "execution_count": 9,
   "metadata": {},
   "outputs": [],
   "source": [
    "# let's find out what's in this darn database !\n",
    "Base.prepare(engine, reflect=True)"
   ]
  },
  {
   "cell_type": "code",
   "execution_count": 10,
   "metadata": {},
   "outputs": [
    {
     "data": {
      "text/plain": [
       "['cat', 'dog']"
      ]
     },
     "execution_count": 10,
     "metadata": {},
     "output_type": "execute_result"
    }
   ],
   "source": [
    "tables = Base.classes.keys()\n",
    "tables"
   ]
  },
  {
   "cell_type": "markdown",
   "metadata": {},
   "source": [
    "### Classes = Tables\n",
    "Remember classes are representations of tables in our database.  \n",
    "\n",
    "So by getting the classe names, we are getting the table names"
   ]
  },
  {
   "cell_type": "code",
   "execution_count": 11,
   "metadata": {},
   "outputs": [],
   "source": [
    "Cat = Base.classes['cat']\n",
    "Dog = Base.classes['dog']\n",
    "\n",
    "## the following also works but I don't like this method for automation ( it's hard coded)\n",
    "\n",
    "# Cat = Base.classes.cat\n",
    "# Dog = Base.classes.dog"
   ]
  },
  {
   "cell_type": "code",
   "execution_count": 12,
   "metadata": {},
   "outputs": [
    {
     "data": {
      "text/plain": [
       "['__abstract__',\n",
       " '__class__',\n",
       " '__delattr__',\n",
       " '__dict__',\n",
       " '__dir__',\n",
       " '__doc__',\n",
       " '__eq__',\n",
       " '__format__',\n",
       " '__ge__',\n",
       " '__getattribute__',\n",
       " '__gt__',\n",
       " '__hash__',\n",
       " '__init__',\n",
       " '__init_subclass__',\n",
       " '__le__',\n",
       " '__lt__',\n",
       " '__mapper__',\n",
       " '__module__',\n",
       " '__ne__',\n",
       " '__new__',\n",
       " '__reduce__',\n",
       " '__reduce_ex__',\n",
       " '__repr__',\n",
       " '__setattr__',\n",
       " '__sizeof__',\n",
       " '__str__',\n",
       " '__subclasshook__',\n",
       " '__table__',\n",
       " '__weakref__',\n",
       " '_decl_class_registry',\n",
       " '_sa_class_manager',\n",
       " '_sa_decl_prepare',\n",
       " '_sa_raise_deferred_config',\n",
       " 'age',\n",
       " 'classes',\n",
       " 'color',\n",
       " 'id',\n",
       " 'metadata',\n",
       " 'name',\n",
       " 'prepare']"
      ]
     },
     "execution_count": 12,
     "metadata": {},
     "output_type": "execute_result"
    }
   ],
   "source": [
    "dir(Cat)"
   ]
  },
  {
   "cell_type": "code",
   "execution_count": 13,
   "metadata": {},
   "outputs": [],
   "source": [
    "# remember we need a session for ORM\n",
    "session = Session(engine)"
   ]
  },
  {
   "cell_type": "code",
   "execution_count": 14,
   "metadata": {},
   "outputs": [
    {
     "data": {
      "text/plain": [
       "[('Tobi', 14), ('Oliver', 12)]"
      ]
     },
     "execution_count": 14,
     "metadata": {},
     "output_type": "execute_result"
    }
   ],
   "source": [
    "# let's see what we've got\n",
    "session.query(Cat.name, Cat.age).all()"
   ]
  },
  {
   "cell_type": "code",
   "execution_count": 15,
   "metadata": {},
   "outputs": [
    {
     "data": {
      "text/plain": [
       "[(1, 'Tobi', 'orange', 14),\n",
       " (2, 'Oliver', 'orange', 12),\n",
       " (3, 'Azriel', 'pale orange', 11)]"
      ]
     },
     "execution_count": 15,
     "metadata": {},
     "output_type": "execute_result"
    }
   ],
   "source": [
    "# let's create a new cat\n",
    "session.add(Cat(name='Azriel', age=11, color=\"pale orange\"))\n",
    "session.commit()\n",
    "engine.execute(\"select * from cat\").fetchall()"
   ]
  },
  {
   "cell_type": "code",
   "execution_count": 16,
   "metadata": {},
   "outputs": [
    {
     "data": {
      "text/plain": [
       "[(1, 'Tobi', 'orange', 14), (2, 'Oliver', 'orange', 12)]"
      ]
     },
     "execution_count": 16,
     "metadata": {},
     "output_type": "execute_result"
    }
   ],
   "source": [
    "# let's get rid of all those extra kittys\n",
    "engine.execute(\"delete from cat where name = 'Azriel'\")\n",
    "engine.execute(\"select * from cat\").fetchall()"
   ]
  },
  {
   "cell_type": "code",
   "execution_count": 17,
   "metadata": {},
   "outputs": [],
   "source": [
    "# always close to be safe\n",
    "session.close()"
   ]
  }
 ],
 "metadata": {
  "kernelspec": {
   "display_name": "Python 3",
   "language": "python",
   "name": "python3"
  },
  "language_info": {
   "codemirror_mode": {
    "name": "ipython",
    "version": 3
   },
   "file_extension": ".py",
   "mimetype": "text/x-python",
   "name": "python",
   "nbconvert_exporter": "python",
   "pygments_lexer": "ipython3",
   "version": "3.7.6"
  }
 },
 "nbformat": 4,
 "nbformat_minor": 4
}
