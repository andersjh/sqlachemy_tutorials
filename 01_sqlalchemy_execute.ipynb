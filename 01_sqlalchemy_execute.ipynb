{
 "cells": [
  {
   "cell_type": "code",
   "execution_count": 1,
   "metadata": {},
   "outputs": [],
   "source": [
    "# SQLAlchemy\n",
    "from sqlalchemy import create_engine\n",
    "import pandas as pd\n",
    "\n",
    "# Path to sqlite\n",
    "database_path = \"corgies.db\""
   ]
  },
  {
   "cell_type": "code",
   "execution_count": 2,
   "metadata": {},
   "outputs": [],
   "source": [
    "# Create an engine that can talk to the database\n",
    "engine = create_engine(f\"sqlite:///{database_path}\")"
   ]
  },
  {
   "cell_type": "markdown",
   "metadata": {},
   "source": [
    "# Read Records with Select "
   ]
  },
  {
   "cell_type": "code",
   "execution_count": 3,
   "metadata": {},
   "outputs": [
    {
     "name": "stdout",
     "output_type": "stream",
     "text": [
      "(1, 'Patterson', 11, 'Corgi', '8 weeks')\n",
      "Patterson\n",
      "(2, 'Judson', 10, 'Corgi', '3 years')\n",
      "Judson\n"
     ]
    }
   ],
   "source": [
    "# Query All Records in the the Database\n",
    "data = engine.execute(\"SELECT * FROM pets\")\n",
    "\n",
    "for record in data:\n",
    "    print(record)\n",
    "    # note how you can use . notation to extract specific columns\n",
    "    print(record.name)"
   ]
  },
  {
   "cell_type": "code",
   "execution_count": 4,
   "metadata": {},
   "outputs": [
    {
     "data": {
      "text/plain": [
       "[(1, 'Patterson', 11, 'Corgi', '8 weeks'),\n",
       " (2, 'Judson', 10, 'Corgi', '3 years')]"
      ]
     },
     "execution_count": 4,
     "metadata": {},
     "output_type": "execute_result"
    }
   ],
   "source": [
    "# get all the records as a list:\n",
    "data = engine.execute(\"SELECT * FROM pets\").fetchall()\n",
    "data"
   ]
  },
  {
   "cell_type": "code",
   "execution_count": 5,
   "metadata": {},
   "outputs": [
    {
     "data": {
      "text/plain": [
       "(1, 'Patterson', 11, 'Corgi', '8 weeks')"
      ]
     },
     "execution_count": 5,
     "metadata": {},
     "output_type": "execute_result"
    }
   ],
   "source": [
    "# get just the first one:\n",
    "data = engine.execute(\"SELECT * FROM pets\").first()\n",
    "data"
   ]
  },
  {
   "cell_type": "code",
   "execution_count": 6,
   "metadata": {},
   "outputs": [
    {
     "data": {
      "text/plain": [
       "(11,)"
      ]
     },
     "execution_count": 6,
     "metadata": {},
     "output_type": "execute_result"
    }
   ],
   "source": [
    "# what happens when I want just a single value?\n",
    "data = engine.execute(\"select age from pets where name = 'Patterson'\").first()\n",
    "data"
   ]
  },
  {
   "cell_type": "code",
   "execution_count": 7,
   "metadata": {},
   "outputs": [
    {
     "data": {
      "text/plain": [
       "11"
      ]
     },
     "execution_count": 7,
     "metadata": {},
     "output_type": "execute_result"
    }
   ],
   "source": [
    "# to actually get the value I have to pull it out of the tuple\n",
    "data[0]"
   ]
  },
  {
   "cell_type": "markdown",
   "metadata": {},
   "source": [
    "#### Is there a better way to just get one value?"
   ]
  },
  {
   "cell_type": "code",
   "execution_count": 8,
   "metadata": {},
   "outputs": [
    {
     "data": {
      "text/plain": [
       "11"
      ]
     },
     "execution_count": 8,
     "metadata": {},
     "output_type": "execute_result"
    }
   ],
   "source": [
    "# get a single value ( no extracting from a tuple)\n",
    "data = engine.execute(\"select age from pets where name = 'Patterson'\").scalar()\n",
    "data"
   ]
  },
  {
   "cell_type": "markdown",
   "metadata": {},
   "source": [
    "## Read into Pandas DataFrame"
   ]
  },
  {
   "cell_type": "code",
   "execution_count": 9,
   "metadata": {},
   "outputs": [],
   "source": [
    "# we need an explicit connection ( execute creates one behind the scenes)\n",
    "conn = engine.connect()"
   ]
  },
  {
   "cell_type": "code",
   "execution_count": 10,
   "metadata": {},
   "outputs": [
    {
     "data": {
      "text/html": [
       "<div>\n",
       "<style scoped>\n",
       "    .dataframe tbody tr th:only-of-type {\n",
       "        vertical-align: middle;\n",
       "    }\n",
       "\n",
       "    .dataframe tbody tr th {\n",
       "        vertical-align: top;\n",
       "    }\n",
       "\n",
       "    .dataframe thead th {\n",
       "        text-align: right;\n",
       "    }\n",
       "</style>\n",
       "<table border=\"1\" class=\"dataframe\">\n",
       "  <thead>\n",
       "    <tr style=\"text-align: right;\">\n",
       "      <th></th>\n",
       "      <th>id</th>\n",
       "      <th>name</th>\n",
       "      <th>age</th>\n",
       "      <th>breed</th>\n",
       "      <th>age_adopted</th>\n",
       "    </tr>\n",
       "  </thead>\n",
       "  <tbody>\n",
       "    <tr>\n",
       "      <th>0</th>\n",
       "      <td>1</td>\n",
       "      <td>Patterson</td>\n",
       "      <td>11</td>\n",
       "      <td>Corgi</td>\n",
       "      <td>8 weeks</td>\n",
       "    </tr>\n",
       "    <tr>\n",
       "      <th>1</th>\n",
       "      <td>2</td>\n",
       "      <td>Judson</td>\n",
       "      <td>10</td>\n",
       "      <td>Corgi</td>\n",
       "      <td>3 years</td>\n",
       "    </tr>\n",
       "  </tbody>\n",
       "</table>\n",
       "</div>"
      ],
      "text/plain": [
       "   id       name  age  breed age_adopted\n",
       "0   1  Patterson   11  Corgi     8 weeks\n",
       "1   2     Judson   10  Corgi     3 years"
      ]
     },
     "execution_count": 10,
     "metadata": {},
     "output_type": "execute_result"
    }
   ],
   "source": [
    "pets = pd.read_sql(\"select * from pets\", conn)\n",
    "pets"
   ]
  },
  {
   "cell_type": "code",
   "execution_count": 11,
   "metadata": {},
   "outputs": [
    {
     "data": {
      "text/html": [
       "<div>\n",
       "<style scoped>\n",
       "    .dataframe tbody tr th:only-of-type {\n",
       "        vertical-align: middle;\n",
       "    }\n",
       "\n",
       "    .dataframe tbody tr th {\n",
       "        vertical-align: top;\n",
       "    }\n",
       "\n",
       "    .dataframe thead th {\n",
       "        text-align: right;\n",
       "    }\n",
       "</style>\n",
       "<table border=\"1\" class=\"dataframe\">\n",
       "  <thead>\n",
       "    <tr style=\"text-align: right;\">\n",
       "      <th></th>\n",
       "      <th>id</th>\n",
       "      <th>task</th>\n",
       "      <th>description</th>\n",
       "    </tr>\n",
       "  </thead>\n",
       "  <tbody>\n",
       "    <tr>\n",
       "      <th>0</th>\n",
       "      <td>1</td>\n",
       "      <td>sit</td>\n",
       "      <td>sit with bottom on floor</td>\n",
       "    </tr>\n",
       "    <tr>\n",
       "      <th>1</th>\n",
       "      <td>2</td>\n",
       "      <td>I feel faint</td>\n",
       "      <td>lay flat on back legs up like a \"faint\"</td>\n",
       "    </tr>\n",
       "    <tr>\n",
       "      <th>2</th>\n",
       "      <td>3</td>\n",
       "      <td>roll over</td>\n",
       "      <td>completely roll over</td>\n",
       "    </tr>\n",
       "    <tr>\n",
       "      <th>3</th>\n",
       "      <td>4</td>\n",
       "      <td>speak</td>\n",
       "      <td>bark loud and clear</td>\n",
       "    </tr>\n",
       "    <tr>\n",
       "      <th>4</th>\n",
       "      <td>5</td>\n",
       "      <td>lay down</td>\n",
       "      <td>lay with all four legs relaxed</td>\n",
       "    </tr>\n",
       "  </tbody>\n",
       "</table>\n",
       "</div>"
      ],
      "text/plain": [
       "   id          task                              description\n",
       "0   1           sit                 sit with bottom on floor\n",
       "1   2  I feel faint  lay flat on back legs up like a \"faint\"\n",
       "2   3     roll over                     completely roll over\n",
       "3   4         speak                      bark loud and clear\n",
       "4   5      lay down           lay with all four legs relaxed"
      ]
     },
     "execution_count": 11,
     "metadata": {},
     "output_type": "execute_result"
    }
   ],
   "source": [
    "training = pd.read_sql(\"select * from training\", conn)\n",
    "training"
   ]
  },
  {
   "cell_type": "code",
   "execution_count": 12,
   "metadata": {},
   "outputs": [
    {
     "data": {
      "text/html": [
       "<div>\n",
       "<style scoped>\n",
       "    .dataframe tbody tr th:only-of-type {\n",
       "        vertical-align: middle;\n",
       "    }\n",
       "\n",
       "    .dataframe tbody tr th {\n",
       "        vertical-align: top;\n",
       "    }\n",
       "\n",
       "    .dataframe thead th {\n",
       "        text-align: right;\n",
       "    }\n",
       "</style>\n",
       "<table border=\"1\" class=\"dataframe\">\n",
       "  <thead>\n",
       "    <tr style=\"text-align: right;\">\n",
       "      <th></th>\n",
       "      <th>pet_id</th>\n",
       "      <th>task_id</th>\n",
       "      <th>grade</th>\n",
       "      <th>comments</th>\n",
       "    </tr>\n",
       "  </thead>\n",
       "  <tbody>\n",
       "    <tr>\n",
       "      <th>0</th>\n",
       "      <td>1</td>\n",
       "      <td>1</td>\n",
       "      <td>A</td>\n",
       "      <td>good</td>\n",
       "    </tr>\n",
       "    <tr>\n",
       "      <th>1</th>\n",
       "      <td>1</td>\n",
       "      <td>2</td>\n",
       "      <td>A-</td>\n",
       "      <td>quick but needed \"do a good one\"</td>\n",
       "    </tr>\n",
       "    <tr>\n",
       "      <th>2</th>\n",
       "      <td>1</td>\n",
       "      <td>3</td>\n",
       "      <td>B</td>\n",
       "      <td>weak attempt</td>\n",
       "    </tr>\n",
       "    <tr>\n",
       "      <th>3</th>\n",
       "      <td>1</td>\n",
       "      <td>4</td>\n",
       "      <td>B</td>\n",
       "      <td>quiet</td>\n",
       "    </tr>\n",
       "    <tr>\n",
       "      <th>4</th>\n",
       "      <td>1</td>\n",
       "      <td>5</td>\n",
       "      <td>C</td>\n",
       "      <td>reluctant</td>\n",
       "    </tr>\n",
       "    <tr>\n",
       "      <th>5</th>\n",
       "      <td>2</td>\n",
       "      <td>1</td>\n",
       "      <td>B</td>\n",
       "      <td>required butt bump</td>\n",
       "    </tr>\n",
       "    <tr>\n",
       "      <th>6</th>\n",
       "      <td>2</td>\n",
       "      <td>2</td>\n",
       "      <td>B-</td>\n",
       "      <td>more of a swoon</td>\n",
       "    </tr>\n",
       "    <tr>\n",
       "      <th>7</th>\n",
       "      <td>2</td>\n",
       "      <td>4</td>\n",
       "      <td>A</td>\n",
       "      <td>loud and deep</td>\n",
       "    </tr>\n",
       "    <tr>\n",
       "      <th>8</th>\n",
       "      <td>2</td>\n",
       "      <td>5</td>\n",
       "      <td>A</td>\n",
       "      <td>good</td>\n",
       "    </tr>\n",
       "  </tbody>\n",
       "</table>\n",
       "</div>"
      ],
      "text/plain": [
       "   pet_id  task_id grade                          comments\n",
       "0       1        1     A                              good\n",
       "1       1        2    A-  quick but needed \"do a good one\"\n",
       "2       1        3     B                      weak attempt\n",
       "3       1        4     B                             quiet\n",
       "4       1        5     C                         reluctant\n",
       "5       2        1     B                required butt bump\n",
       "6       2        2    B-                   more of a swoon\n",
       "7       2        4     A                     loud and deep\n",
       "8       2        5     A                              good"
      ]
     },
     "execution_count": 12,
     "metadata": {},
     "output_type": "execute_result"
    }
   ],
   "source": [
    "grades = pd.read_sql(\"select * from grades\", conn)\n",
    "grades"
   ]
  },
  {
   "cell_type": "markdown",
   "metadata": {},
   "source": [
    "### Now let's go ahead and merge the DataFrames"
   ]
  },
  {
   "cell_type": "code",
   "execution_count": 13,
   "metadata": {},
   "outputs": [
    {
     "data": {
      "text/html": [
       "<div>\n",
       "<style scoped>\n",
       "    .dataframe tbody tr th:only-of-type {\n",
       "        vertical-align: middle;\n",
       "    }\n",
       "\n",
       "    .dataframe tbody tr th {\n",
       "        vertical-align: top;\n",
       "    }\n",
       "\n",
       "    .dataframe thead th {\n",
       "        text-align: right;\n",
       "    }\n",
       "</style>\n",
       "<table border=\"1\" class=\"dataframe\">\n",
       "  <thead>\n",
       "    <tr style=\"text-align: right;\">\n",
       "      <th></th>\n",
       "      <th>pet_id</th>\n",
       "      <th>task_id</th>\n",
       "      <th>grade</th>\n",
       "      <th>comments</th>\n",
       "      <th>id_x</th>\n",
       "      <th>task</th>\n",
       "      <th>description</th>\n",
       "      <th>id_y</th>\n",
       "      <th>name</th>\n",
       "      <th>age</th>\n",
       "      <th>breed</th>\n",
       "      <th>age_adopted</th>\n",
       "    </tr>\n",
       "  </thead>\n",
       "  <tbody>\n",
       "    <tr>\n",
       "      <th>0</th>\n",
       "      <td>1</td>\n",
       "      <td>1</td>\n",
       "      <td>A</td>\n",
       "      <td>good</td>\n",
       "      <td>1</td>\n",
       "      <td>sit</td>\n",
       "      <td>sit with bottom on floor</td>\n",
       "      <td>1</td>\n",
       "      <td>Patterson</td>\n",
       "      <td>11</td>\n",
       "      <td>Corgi</td>\n",
       "      <td>8 weeks</td>\n",
       "    </tr>\n",
       "    <tr>\n",
       "      <th>1</th>\n",
       "      <td>1</td>\n",
       "      <td>2</td>\n",
       "      <td>A-</td>\n",
       "      <td>quick but needed \"do a good one\"</td>\n",
       "      <td>2</td>\n",
       "      <td>I feel faint</td>\n",
       "      <td>lay flat on back legs up like a \"faint\"</td>\n",
       "      <td>1</td>\n",
       "      <td>Patterson</td>\n",
       "      <td>11</td>\n",
       "      <td>Corgi</td>\n",
       "      <td>8 weeks</td>\n",
       "    </tr>\n",
       "    <tr>\n",
       "      <th>2</th>\n",
       "      <td>1</td>\n",
       "      <td>3</td>\n",
       "      <td>B</td>\n",
       "      <td>weak attempt</td>\n",
       "      <td>3</td>\n",
       "      <td>roll over</td>\n",
       "      <td>completely roll over</td>\n",
       "      <td>1</td>\n",
       "      <td>Patterson</td>\n",
       "      <td>11</td>\n",
       "      <td>Corgi</td>\n",
       "      <td>8 weeks</td>\n",
       "    </tr>\n",
       "    <tr>\n",
       "      <th>3</th>\n",
       "      <td>1</td>\n",
       "      <td>4</td>\n",
       "      <td>B</td>\n",
       "      <td>quiet</td>\n",
       "      <td>4</td>\n",
       "      <td>speak</td>\n",
       "      <td>bark loud and clear</td>\n",
       "      <td>1</td>\n",
       "      <td>Patterson</td>\n",
       "      <td>11</td>\n",
       "      <td>Corgi</td>\n",
       "      <td>8 weeks</td>\n",
       "    </tr>\n",
       "    <tr>\n",
       "      <th>4</th>\n",
       "      <td>1</td>\n",
       "      <td>5</td>\n",
       "      <td>C</td>\n",
       "      <td>reluctant</td>\n",
       "      <td>5</td>\n",
       "      <td>lay down</td>\n",
       "      <td>lay with all four legs relaxed</td>\n",
       "      <td>1</td>\n",
       "      <td>Patterson</td>\n",
       "      <td>11</td>\n",
       "      <td>Corgi</td>\n",
       "      <td>8 weeks</td>\n",
       "    </tr>\n",
       "    <tr>\n",
       "      <th>5</th>\n",
       "      <td>2</td>\n",
       "      <td>1</td>\n",
       "      <td>B</td>\n",
       "      <td>required butt bump</td>\n",
       "      <td>1</td>\n",
       "      <td>sit</td>\n",
       "      <td>sit with bottom on floor</td>\n",
       "      <td>2</td>\n",
       "      <td>Judson</td>\n",
       "      <td>10</td>\n",
       "      <td>Corgi</td>\n",
       "      <td>3 years</td>\n",
       "    </tr>\n",
       "    <tr>\n",
       "      <th>6</th>\n",
       "      <td>2</td>\n",
       "      <td>2</td>\n",
       "      <td>B-</td>\n",
       "      <td>more of a swoon</td>\n",
       "      <td>2</td>\n",
       "      <td>I feel faint</td>\n",
       "      <td>lay flat on back legs up like a \"faint\"</td>\n",
       "      <td>2</td>\n",
       "      <td>Judson</td>\n",
       "      <td>10</td>\n",
       "      <td>Corgi</td>\n",
       "      <td>3 years</td>\n",
       "    </tr>\n",
       "    <tr>\n",
       "      <th>7</th>\n",
       "      <td>2</td>\n",
       "      <td>4</td>\n",
       "      <td>A</td>\n",
       "      <td>loud and deep</td>\n",
       "      <td>4</td>\n",
       "      <td>speak</td>\n",
       "      <td>bark loud and clear</td>\n",
       "      <td>2</td>\n",
       "      <td>Judson</td>\n",
       "      <td>10</td>\n",
       "      <td>Corgi</td>\n",
       "      <td>3 years</td>\n",
       "    </tr>\n",
       "    <tr>\n",
       "      <th>8</th>\n",
       "      <td>2</td>\n",
       "      <td>5</td>\n",
       "      <td>A</td>\n",
       "      <td>good</td>\n",
       "      <td>5</td>\n",
       "      <td>lay down</td>\n",
       "      <td>lay with all four legs relaxed</td>\n",
       "      <td>2</td>\n",
       "      <td>Judson</td>\n",
       "      <td>10</td>\n",
       "      <td>Corgi</td>\n",
       "      <td>3 years</td>\n",
       "    </tr>\n",
       "  </tbody>\n",
       "</table>\n",
       "</div>"
      ],
      "text/plain": [
       "   pet_id  task_id grade                          comments  id_x  \\\n",
       "0       1        1     A                              good     1   \n",
       "1       1        2    A-  quick but needed \"do a good one\"     2   \n",
       "2       1        3     B                      weak attempt     3   \n",
       "3       1        4     B                             quiet     4   \n",
       "4       1        5     C                         reluctant     5   \n",
       "5       2        1     B                required butt bump     1   \n",
       "6       2        2    B-                   more of a swoon     2   \n",
       "7       2        4     A                     loud and deep     4   \n",
       "8       2        5     A                              good     5   \n",
       "\n",
       "           task                              description  id_y       name  \\\n",
       "0           sit                 sit with bottom on floor     1  Patterson   \n",
       "1  I feel faint  lay flat on back legs up like a \"faint\"     1  Patterson   \n",
       "2     roll over                     completely roll over     1  Patterson   \n",
       "3         speak                      bark loud and clear     1  Patterson   \n",
       "4      lay down           lay with all four legs relaxed     1  Patterson   \n",
       "5           sit                 sit with bottom on floor     2     Judson   \n",
       "6  I feel faint  lay flat on back legs up like a \"faint\"     2     Judson   \n",
       "7         speak                      bark loud and clear     2     Judson   \n",
       "8      lay down           lay with all four legs relaxed     2     Judson   \n",
       "\n",
       "   age  breed age_adopted  \n",
       "0   11  Corgi     8 weeks  \n",
       "1   11  Corgi     8 weeks  \n",
       "2   11  Corgi     8 weeks  \n",
       "3   11  Corgi     8 weeks  \n",
       "4   11  Corgi     8 weeks  \n",
       "5   10  Corgi     3 years  \n",
       "6   10  Corgi     3 years  \n",
       "7   10  Corgi     3 years  \n",
       "8   10  Corgi     3 years  "
      ]
     },
     "execution_count": 13,
     "metadata": {},
     "output_type": "execute_result"
    }
   ],
   "source": [
    "merged_data = grades.merge(training, left_on=\"task_id\", right_on=\"id\").\\\n",
    "    merge(pets, left_on=\"pet_id\", right_on=\"id\")\n",
    "merged_data"
   ]
  },
  {
   "cell_type": "code",
   "execution_count": 14,
   "metadata": {},
   "outputs": [
    {
     "data": {
      "text/plain": [
       "Index(['pet_id', 'task_id', 'grade', 'comments', 'id_x', 'task', 'description',\n",
       "       'id_y', 'name', 'age', 'breed', 'age_adopted'],\n",
       "      dtype='object')"
      ]
     },
     "execution_count": 14,
     "metadata": {},
     "output_type": "execute_result"
    }
   ],
   "source": [
    "merged_data.columns"
   ]
  },
  {
   "cell_type": "code",
   "execution_count": 15,
   "metadata": {},
   "outputs": [
    {
     "data": {
      "text/html": [
       "<div>\n",
       "<style scoped>\n",
       "    .dataframe tbody tr th:only-of-type {\n",
       "        vertical-align: middle;\n",
       "    }\n",
       "\n",
       "    .dataframe tbody tr th {\n",
       "        vertical-align: top;\n",
       "    }\n",
       "\n",
       "    .dataframe thead th {\n",
       "        text-align: right;\n",
       "    }\n",
       "</style>\n",
       "<table border=\"1\" class=\"dataframe\">\n",
       "  <thead>\n",
       "    <tr style=\"text-align: right;\">\n",
       "      <th></th>\n",
       "      <th>grade</th>\n",
       "      <th>comments</th>\n",
       "      <th>task</th>\n",
       "      <th>name</th>\n",
       "    </tr>\n",
       "  </thead>\n",
       "  <tbody>\n",
       "    <tr>\n",
       "      <th>0</th>\n",
       "      <td>A</td>\n",
       "      <td>good</td>\n",
       "      <td>sit</td>\n",
       "      <td>Patterson</td>\n",
       "    </tr>\n",
       "    <tr>\n",
       "      <th>1</th>\n",
       "      <td>A-</td>\n",
       "      <td>quick but needed \"do a good one\"</td>\n",
       "      <td>I feel faint</td>\n",
       "      <td>Patterson</td>\n",
       "    </tr>\n",
       "    <tr>\n",
       "      <th>2</th>\n",
       "      <td>B</td>\n",
       "      <td>weak attempt</td>\n",
       "      <td>roll over</td>\n",
       "      <td>Patterson</td>\n",
       "    </tr>\n",
       "    <tr>\n",
       "      <th>3</th>\n",
       "      <td>B</td>\n",
       "      <td>quiet</td>\n",
       "      <td>speak</td>\n",
       "      <td>Patterson</td>\n",
       "    </tr>\n",
       "    <tr>\n",
       "      <th>4</th>\n",
       "      <td>C</td>\n",
       "      <td>reluctant</td>\n",
       "      <td>lay down</td>\n",
       "      <td>Patterson</td>\n",
       "    </tr>\n",
       "    <tr>\n",
       "      <th>5</th>\n",
       "      <td>B</td>\n",
       "      <td>required butt bump</td>\n",
       "      <td>sit</td>\n",
       "      <td>Judson</td>\n",
       "    </tr>\n",
       "    <tr>\n",
       "      <th>6</th>\n",
       "      <td>B-</td>\n",
       "      <td>more of a swoon</td>\n",
       "      <td>I feel faint</td>\n",
       "      <td>Judson</td>\n",
       "    </tr>\n",
       "    <tr>\n",
       "      <th>7</th>\n",
       "      <td>A</td>\n",
       "      <td>loud and deep</td>\n",
       "      <td>speak</td>\n",
       "      <td>Judson</td>\n",
       "    </tr>\n",
       "    <tr>\n",
       "      <th>8</th>\n",
       "      <td>A</td>\n",
       "      <td>good</td>\n",
       "      <td>lay down</td>\n",
       "      <td>Judson</td>\n",
       "    </tr>\n",
       "  </tbody>\n",
       "</table>\n",
       "</div>"
      ],
      "text/plain": [
       "  grade                          comments          task       name\n",
       "0     A                              good           sit  Patterson\n",
       "1    A-  quick but needed \"do a good one\"  I feel faint  Patterson\n",
       "2     B                      weak attempt     roll over  Patterson\n",
       "3     B                             quiet         speak  Patterson\n",
       "4     C                         reluctant      lay down  Patterson\n",
       "5     B                required butt bump           sit     Judson\n",
       "6    B-                   more of a swoon  I feel faint     Judson\n",
       "7     A                     loud and deep         speak     Judson\n",
       "8     A                              good      lay down     Judson"
      ]
     },
     "execution_count": 15,
     "metadata": {},
     "output_type": "execute_result"
    }
   ],
   "source": [
    "# drop columns\n",
    "merged_data = merged_data.drop(['pet_id', 'task_id', 'id_x', 'description',\n",
    "       'id_y', 'age', 'breed', 'age_adopted'], axis=1)\n",
    "merged_data"
   ]
  },
  {
   "cell_type": "code",
   "execution_count": 16,
   "metadata": {},
   "outputs": [
    {
     "data": {
      "text/plain": [
       "Index(['grade', 'comments', 'task', 'name'], dtype='object')"
      ]
     },
     "execution_count": 16,
     "metadata": {},
     "output_type": "execute_result"
    }
   ],
   "source": [
    "merged_data.columns"
   ]
  },
  {
   "cell_type": "code",
   "execution_count": 17,
   "metadata": {},
   "outputs": [
    {
     "data": {
      "text/html": [
       "<div>\n",
       "<style scoped>\n",
       "    .dataframe tbody tr th:only-of-type {\n",
       "        vertical-align: middle;\n",
       "    }\n",
       "\n",
       "    .dataframe tbody tr th {\n",
       "        vertical-align: top;\n",
       "    }\n",
       "\n",
       "    .dataframe thead th {\n",
       "        text-align: right;\n",
       "    }\n",
       "</style>\n",
       "<table border=\"1\" class=\"dataframe\">\n",
       "  <thead>\n",
       "    <tr style=\"text-align: right;\">\n",
       "      <th></th>\n",
       "      <th>name</th>\n",
       "      <th>task</th>\n",
       "      <th>grade</th>\n",
       "      <th>comments</th>\n",
       "    </tr>\n",
       "  </thead>\n",
       "  <tbody>\n",
       "    <tr>\n",
       "      <th>0</th>\n",
       "      <td>Patterson</td>\n",
       "      <td>sit</td>\n",
       "      <td>A</td>\n",
       "      <td>good</td>\n",
       "    </tr>\n",
       "    <tr>\n",
       "      <th>1</th>\n",
       "      <td>Patterson</td>\n",
       "      <td>I feel faint</td>\n",
       "      <td>A-</td>\n",
       "      <td>quick but needed \"do a good one\"</td>\n",
       "    </tr>\n",
       "    <tr>\n",
       "      <th>2</th>\n",
       "      <td>Patterson</td>\n",
       "      <td>roll over</td>\n",
       "      <td>B</td>\n",
       "      <td>weak attempt</td>\n",
       "    </tr>\n",
       "    <tr>\n",
       "      <th>3</th>\n",
       "      <td>Patterson</td>\n",
       "      <td>speak</td>\n",
       "      <td>B</td>\n",
       "      <td>quiet</td>\n",
       "    </tr>\n",
       "    <tr>\n",
       "      <th>4</th>\n",
       "      <td>Patterson</td>\n",
       "      <td>lay down</td>\n",
       "      <td>C</td>\n",
       "      <td>reluctant</td>\n",
       "    </tr>\n",
       "    <tr>\n",
       "      <th>5</th>\n",
       "      <td>Judson</td>\n",
       "      <td>sit</td>\n",
       "      <td>B</td>\n",
       "      <td>required butt bump</td>\n",
       "    </tr>\n",
       "    <tr>\n",
       "      <th>6</th>\n",
       "      <td>Judson</td>\n",
       "      <td>I feel faint</td>\n",
       "      <td>B-</td>\n",
       "      <td>more of a swoon</td>\n",
       "    </tr>\n",
       "    <tr>\n",
       "      <th>7</th>\n",
       "      <td>Judson</td>\n",
       "      <td>speak</td>\n",
       "      <td>A</td>\n",
       "      <td>loud and deep</td>\n",
       "    </tr>\n",
       "    <tr>\n",
       "      <th>8</th>\n",
       "      <td>Judson</td>\n",
       "      <td>lay down</td>\n",
       "      <td>A</td>\n",
       "      <td>good</td>\n",
       "    </tr>\n",
       "  </tbody>\n",
       "</table>\n",
       "</div>"
      ],
      "text/plain": [
       "        name          task grade                          comments\n",
       "0  Patterson           sit     A                              good\n",
       "1  Patterson  I feel faint    A-  quick but needed \"do a good one\"\n",
       "2  Patterson     roll over     B                      weak attempt\n",
       "3  Patterson         speak     B                             quiet\n",
       "4  Patterson      lay down     C                         reluctant\n",
       "5     Judson           sit     B                required butt bump\n",
       "6     Judson  I feel faint    B-                   more of a swoon\n",
       "7     Judson         speak     A                     loud and deep\n",
       "8     Judson      lay down     A                              good"
      ]
     },
     "execution_count": 17,
     "metadata": {},
     "output_type": "execute_result"
    }
   ],
   "source": [
    "# reorder columns\n",
    "merged_data = merged_data[['name',  'task', 'grade', 'comments']]\n",
    "merged_data\n"
   ]
  },
  {
   "cell_type": "markdown",
   "metadata": {},
   "source": [
    "#### Let's move all that work to the database"
   ]
  },
  {
   "cell_type": "code",
   "execution_count": 18,
   "metadata": {},
   "outputs": [
    {
     "data": {
      "text/html": [
       "<div>\n",
       "<style scoped>\n",
       "    .dataframe tbody tr th:only-of-type {\n",
       "        vertical-align: middle;\n",
       "    }\n",
       "\n",
       "    .dataframe tbody tr th {\n",
       "        vertical-align: top;\n",
       "    }\n",
       "\n",
       "    .dataframe thead th {\n",
       "        text-align: right;\n",
       "    }\n",
       "</style>\n",
       "<table border=\"1\" class=\"dataframe\">\n",
       "  <thead>\n",
       "    <tr style=\"text-align: right;\">\n",
       "      <th></th>\n",
       "      <th>name</th>\n",
       "      <th>task</th>\n",
       "      <th>grade</th>\n",
       "      <th>comments</th>\n",
       "    </tr>\n",
       "  </thead>\n",
       "  <tbody>\n",
       "    <tr>\n",
       "      <th>0</th>\n",
       "      <td>Patterson</td>\n",
       "      <td>sit</td>\n",
       "      <td>A</td>\n",
       "      <td>good</td>\n",
       "    </tr>\n",
       "    <tr>\n",
       "      <th>1</th>\n",
       "      <td>Judson</td>\n",
       "      <td>sit</td>\n",
       "      <td>B</td>\n",
       "      <td>required butt bump</td>\n",
       "    </tr>\n",
       "    <tr>\n",
       "      <th>2</th>\n",
       "      <td>Patterson</td>\n",
       "      <td>I feel faint</td>\n",
       "      <td>A-</td>\n",
       "      <td>quick but needed \"do a good one\"</td>\n",
       "    </tr>\n",
       "    <tr>\n",
       "      <th>3</th>\n",
       "      <td>Judson</td>\n",
       "      <td>I feel faint</td>\n",
       "      <td>B-</td>\n",
       "      <td>more of a swoon</td>\n",
       "    </tr>\n",
       "    <tr>\n",
       "      <th>4</th>\n",
       "      <td>Patterson</td>\n",
       "      <td>roll over</td>\n",
       "      <td>B</td>\n",
       "      <td>weak attempt</td>\n",
       "    </tr>\n",
       "    <tr>\n",
       "      <th>5</th>\n",
       "      <td>Patterson</td>\n",
       "      <td>speak</td>\n",
       "      <td>B</td>\n",
       "      <td>quiet</td>\n",
       "    </tr>\n",
       "    <tr>\n",
       "      <th>6</th>\n",
       "      <td>Judson</td>\n",
       "      <td>speak</td>\n",
       "      <td>A</td>\n",
       "      <td>loud and deep</td>\n",
       "    </tr>\n",
       "    <tr>\n",
       "      <th>7</th>\n",
       "      <td>Patterson</td>\n",
       "      <td>lay down</td>\n",
       "      <td>C</td>\n",
       "      <td>reluctant</td>\n",
       "    </tr>\n",
       "    <tr>\n",
       "      <th>8</th>\n",
       "      <td>Judson</td>\n",
       "      <td>lay down</td>\n",
       "      <td>A</td>\n",
       "      <td>good</td>\n",
       "    </tr>\n",
       "  </tbody>\n",
       "</table>\n",
       "</div>"
      ],
      "text/plain": [
       "        name          task grade                          comments\n",
       "0  Patterson           sit     A                              good\n",
       "1     Judson           sit     B                required butt bump\n",
       "2  Patterson  I feel faint    A-  quick but needed \"do a good one\"\n",
       "3     Judson  I feel faint    B-                   more of a swoon\n",
       "4  Patterson     roll over     B                      weak attempt\n",
       "5  Patterson         speak     B                             quiet\n",
       "6     Judson         speak     A                     loud and deep\n",
       "7  Patterson      lay down     C                         reluctant\n",
       "8     Judson      lay down     A                              good"
      ]
     },
     "execution_count": 18,
     "metadata": {},
     "output_type": "execute_result"
    }
   ],
   "source": [
    "sql = \"\"\"\n",
    "select name, task, grade, comments \n",
    "from pets p\n",
    "join grades g on g.pet_id = p.id\n",
    "join training t on t.id = g.task_id\n",
    "order by task_id\n",
    "\"\"\"\n",
    "\n",
    "training_df = pd.read_sql(sql, conn)\n",
    "training_df"
   ]
  },
  {
   "cell_type": "markdown",
   "metadata": {},
   "source": [
    "#### If we're going to do this often a view would be nice"
   ]
  },
  {
   "cell_type": "code",
   "execution_count": 19,
   "metadata": {},
   "outputs": [
    {
     "data": {
      "text/html": [
       "<div>\n",
       "<style scoped>\n",
       "    .dataframe tbody tr th:only-of-type {\n",
       "        vertical-align: middle;\n",
       "    }\n",
       "\n",
       "    .dataframe tbody tr th {\n",
       "        vertical-align: top;\n",
       "    }\n",
       "\n",
       "    .dataframe thead th {\n",
       "        text-align: right;\n",
       "    }\n",
       "</style>\n",
       "<table border=\"1\" class=\"dataframe\">\n",
       "  <thead>\n",
       "    <tr style=\"text-align: right;\">\n",
       "      <th></th>\n",
       "      <th>name</th>\n",
       "      <th>task</th>\n",
       "      <th>grade</th>\n",
       "      <th>comments</th>\n",
       "    </tr>\n",
       "  </thead>\n",
       "  <tbody>\n",
       "    <tr>\n",
       "      <th>0</th>\n",
       "      <td>Patterson</td>\n",
       "      <td>sit</td>\n",
       "      <td>A</td>\n",
       "      <td>good</td>\n",
       "    </tr>\n",
       "    <tr>\n",
       "      <th>1</th>\n",
       "      <td>Patterson</td>\n",
       "      <td>I feel faint</td>\n",
       "      <td>A-</td>\n",
       "      <td>quick but needed \"do a good one\"</td>\n",
       "    </tr>\n",
       "    <tr>\n",
       "      <th>2</th>\n",
       "      <td>Patterson</td>\n",
       "      <td>roll over</td>\n",
       "      <td>B</td>\n",
       "      <td>weak attempt</td>\n",
       "    </tr>\n",
       "    <tr>\n",
       "      <th>3</th>\n",
       "      <td>Patterson</td>\n",
       "      <td>speak</td>\n",
       "      <td>B</td>\n",
       "      <td>quiet</td>\n",
       "    </tr>\n",
       "    <tr>\n",
       "      <th>4</th>\n",
       "      <td>Patterson</td>\n",
       "      <td>lay down</td>\n",
       "      <td>C</td>\n",
       "      <td>reluctant</td>\n",
       "    </tr>\n",
       "  </tbody>\n",
       "</table>\n",
       "</div>"
      ],
      "text/plain": [
       "        name          task grade                          comments\n",
       "0  Patterson           sit     A                              good\n",
       "1  Patterson  I feel faint    A-  quick but needed \"do a good one\"\n",
       "2  Patterson     roll over     B                      weak attempt\n",
       "3  Patterson         speak     B                             quiet\n",
       "4  Patterson      lay down     C                         reluctant"
      ]
     },
     "execution_count": 19,
     "metadata": {},
     "output_type": "execute_result"
    }
   ],
   "source": [
    "sql = \"select * from pet_training where name = 'Patterson' order by grade\"\n",
    "training_view_df = pd.read_sql(sql, conn)\n",
    "training_view_df"
   ]
  },
  {
   "cell_type": "markdown",
   "metadata": {},
   "source": [
    "## Panada \"insert\"\n",
    "\n",
    "The to_sql method can create, replace and append to tables.  Very quick and easy!"
   ]
  },
  {
   "cell_type": "code",
   "execution_count": 20,
   "metadata": {},
   "outputs": [],
   "source": [
    "training_view_df.to_sql(name=\"patterson_grade\", index_label='id', if_exists='replace', con=conn)"
   ]
  },
  {
   "cell_type": "code",
   "execution_count": 25,
   "metadata": {},
   "outputs": [
    {
     "data": {
      "text/plain": [
       "[(0, 'Patterson', 'sit', 'A', 'good'),\n",
       " (1, 'Patterson', 'I feel faint', 'A-', 'quick but needed \"do a good one\"'),\n",
       " (2, 'Patterson', 'roll over', 'B', 'weak attempt'),\n",
       " (3, 'Patterson', 'speak', 'B', 'quiet'),\n",
       " (4, 'Patterson', 'lay down', 'C', 'reluctant')]"
      ]
     },
     "execution_count": 25,
     "metadata": {},
     "output_type": "execute_result"
    }
   ],
   "source": [
    "# did the table get created?\n",
    "engine.execute(\"select * from patterson_grade order by id\").fetchall()"
   ]
  },
  {
   "cell_type": "markdown",
   "metadata": {},
   "source": [
    "## Create with Insert"
   ]
  },
  {
   "cell_type": "code",
   "execution_count": 21,
   "metadata": {},
   "outputs": [
    {
     "data": {
      "text/html": [
       "<div>\n",
       "<style scoped>\n",
       "    .dataframe tbody tr th:only-of-type {\n",
       "        vertical-align: middle;\n",
       "    }\n",
       "\n",
       "    .dataframe tbody tr th {\n",
       "        vertical-align: top;\n",
       "    }\n",
       "\n",
       "    .dataframe thead th {\n",
       "        text-align: right;\n",
       "    }\n",
       "</style>\n",
       "<table border=\"1\" class=\"dataframe\">\n",
       "  <thead>\n",
       "    <tr style=\"text-align: right;\">\n",
       "      <th></th>\n",
       "      <th>id</th>\n",
       "      <th>name</th>\n",
       "      <th>age</th>\n",
       "      <th>breed</th>\n",
       "      <th>age_adopted</th>\n",
       "    </tr>\n",
       "  </thead>\n",
       "  <tbody>\n",
       "    <tr>\n",
       "      <th>0</th>\n",
       "      <td>1</td>\n",
       "      <td>Patterson</td>\n",
       "      <td>11</td>\n",
       "      <td>Corgi</td>\n",
       "      <td>8 weeks</td>\n",
       "    </tr>\n",
       "    <tr>\n",
       "      <th>1</th>\n",
       "      <td>2</td>\n",
       "      <td>Judson</td>\n",
       "      <td>10</td>\n",
       "      <td>Corgi</td>\n",
       "      <td>3 years</td>\n",
       "    </tr>\n",
       "    <tr>\n",
       "      <th>2</th>\n",
       "      <td>3</td>\n",
       "      <td>Cool Corgi</td>\n",
       "      <td>4</td>\n",
       "      <td>Cardigan</td>\n",
       "      <td>2</td>\n",
       "    </tr>\n",
       "  </tbody>\n",
       "</table>\n",
       "</div>"
      ],
      "text/plain": [
       "   id        name  age     breed age_adopted\n",
       "0   1   Patterson   11     Corgi     8 weeks\n",
       "1   2      Judson   10     Corgi     3 years\n",
       "2   3  Cool Corgi    4  Cardigan           2"
      ]
     },
     "execution_count": 21,
     "metadata": {},
     "output_type": "execute_result"
    }
   ],
   "source": [
    "sql = \"\"\"\n",
    "insert into pets (id, name, age, breed, age_adopted)\n",
    "values ( 3, 'Cool Corgi', 4, 'Cardigan', 2)\n",
    "\"\"\"\n",
    "engine.execute(sql)\n",
    "\n",
    "pd.read_sql(\"select * from pets\", conn)"
   ]
  },
  {
   "cell_type": "markdown",
   "metadata": {},
   "source": [
    "## Update with Update"
   ]
  },
  {
   "cell_type": "code",
   "execution_count": 22,
   "metadata": {},
   "outputs": [
    {
     "data": {
      "text/html": [
       "<div>\n",
       "<style scoped>\n",
       "    .dataframe tbody tr th:only-of-type {\n",
       "        vertical-align: middle;\n",
       "    }\n",
       "\n",
       "    .dataframe tbody tr th {\n",
       "        vertical-align: top;\n",
       "    }\n",
       "\n",
       "    .dataframe thead th {\n",
       "        text-align: right;\n",
       "    }\n",
       "</style>\n",
       "<table border=\"1\" class=\"dataframe\">\n",
       "  <thead>\n",
       "    <tr style=\"text-align: right;\">\n",
       "      <th></th>\n",
       "      <th>id</th>\n",
       "      <th>name</th>\n",
       "      <th>age</th>\n",
       "      <th>breed</th>\n",
       "      <th>age_adopted</th>\n",
       "    </tr>\n",
       "  </thead>\n",
       "  <tbody>\n",
       "    <tr>\n",
       "      <th>0</th>\n",
       "      <td>1</td>\n",
       "      <td>Patterson</td>\n",
       "      <td>11</td>\n",
       "      <td>Corgi</td>\n",
       "      <td>8 weeks</td>\n",
       "    </tr>\n",
       "    <tr>\n",
       "      <th>1</th>\n",
       "      <td>2</td>\n",
       "      <td>Judson</td>\n",
       "      <td>10</td>\n",
       "      <td>Corgi</td>\n",
       "      <td>3 years</td>\n",
       "    </tr>\n",
       "    <tr>\n",
       "      <th>2</th>\n",
       "      <td>3</td>\n",
       "      <td>Cool Corgi</td>\n",
       "      <td>4</td>\n",
       "      <td>Cardigan</td>\n",
       "      <td>2 Years</td>\n",
       "    </tr>\n",
       "  </tbody>\n",
       "</table>\n",
       "</div>"
      ],
      "text/plain": [
       "   id        name  age     breed age_adopted\n",
       "0   1   Patterson   11     Corgi     8 weeks\n",
       "1   2      Judson   10     Corgi     3 years\n",
       "2   3  Cool Corgi    4  Cardigan     2 Years"
      ]
     },
     "execution_count": 22,
     "metadata": {},
     "output_type": "execute_result"
    }
   ],
   "source": [
    "sql = \"update pets set age_adopted = '2 Years' where id = 3\"\n",
    "engine.execute(sql)\n",
    "\n",
    "pd.read_sql(\"select * from pets\", conn)"
   ]
  },
  {
   "cell_type": "markdown",
   "metadata": {},
   "source": [
    "## Delete with Delete"
   ]
  },
  {
   "cell_type": "code",
   "execution_count": 23,
   "metadata": {},
   "outputs": [
    {
     "data": {
      "text/html": [
       "<div>\n",
       "<style scoped>\n",
       "    .dataframe tbody tr th:only-of-type {\n",
       "        vertical-align: middle;\n",
       "    }\n",
       "\n",
       "    .dataframe tbody tr th {\n",
       "        vertical-align: top;\n",
       "    }\n",
       "\n",
       "    .dataframe thead th {\n",
       "        text-align: right;\n",
       "    }\n",
       "</style>\n",
       "<table border=\"1\" class=\"dataframe\">\n",
       "  <thead>\n",
       "    <tr style=\"text-align: right;\">\n",
       "      <th></th>\n",
       "      <th>id</th>\n",
       "      <th>name</th>\n",
       "      <th>age</th>\n",
       "      <th>breed</th>\n",
       "      <th>age_adopted</th>\n",
       "    </tr>\n",
       "  </thead>\n",
       "  <tbody>\n",
       "    <tr>\n",
       "      <th>0</th>\n",
       "      <td>1</td>\n",
       "      <td>Patterson</td>\n",
       "      <td>11</td>\n",
       "      <td>Corgi</td>\n",
       "      <td>8 weeks</td>\n",
       "    </tr>\n",
       "    <tr>\n",
       "      <th>1</th>\n",
       "      <td>2</td>\n",
       "      <td>Judson</td>\n",
       "      <td>10</td>\n",
       "      <td>Corgi</td>\n",
       "      <td>3 years</td>\n",
       "    </tr>\n",
       "  </tbody>\n",
       "</table>\n",
       "</div>"
      ],
      "text/plain": [
       "   id       name  age  breed age_adopted\n",
       "0   1  Patterson   11  Corgi     8 weeks\n",
       "1   2     Judson   10  Corgi     3 years"
      ]
     },
     "execution_count": 23,
     "metadata": {},
     "output_type": "execute_result"
    }
   ],
   "source": [
    "sql = \"delete from pets where id = 3\"\n",
    "engine.execute(sql)\n",
    "\n",
    "pd.read_sql(\"select * from pets\", conn)"
   ]
  },
  {
   "cell_type": "code",
   "execution_count": 24,
   "metadata": {},
   "outputs": [],
   "source": [
    "conn.close()"
   ]
  }
 ],
 "metadata": {
  "kernelspec": {
   "display_name": "Python 3",
   "language": "python",
   "name": "python3"
  },
  "language_info": {
   "codemirror_mode": {
    "name": "ipython",
    "version": 3
   },
   "file_extension": ".py",
   "mimetype": "text/x-python",
   "name": "python",
   "nbconvert_exporter": "python",
   "pygments_lexer": "ipython3",
   "version": "3.7.6"
  }
 },
 "nbformat": 4,
 "nbformat_minor": 4
}
