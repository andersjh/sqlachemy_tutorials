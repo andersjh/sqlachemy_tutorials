{
 "cells": [
  {
   "cell_type": "markdown",
   "metadata": {},
   "source": [
    "# Data Storage and Manipulation\n",
    "\n",
    "## Dictionary\n",
    "\n",
    "In basic Python one of the most common data starage items is a dictionary"
   ]
  },
  {
   "cell_type": "code",
   "execution_count": 1,
   "metadata": {},
   "outputs": [
    {
     "data": {
      "text/plain": [
       "{'name': 'Patterson', 'age_adopted': 0, 'age': 0, 'bark': 'loud and shrill'}"
      ]
     },
     "execution_count": 1,
     "metadata": {},
     "output_type": "execute_result"
    }
   ],
   "source": [
    "dog = {\n",
    "    \"name\": \"Patterson\",\n",
    "    \"age_adopted\": 0,\n",
    "    \"age\": 0,\n",
    "    \"bark\": \"loud and shrill\"\n",
    "}\n",
    "\n",
    "dog"
   ]
  },
  {
   "cell_type": "markdown",
   "metadata": {},
   "source": [
    "### Dog dictionary has several \"properties\" or keys:\n",
    "- name\n",
    "- age_adopted\n",
    "- age\n",
    "- bark"
   ]
  },
  {
   "cell_type": "markdown",
   "metadata": {},
   "source": [
    "### Let's create a function ( i.e. method we can use on the dictionary)"
   ]
  },
  {
   "cell_type": "code",
   "execution_count": 2,
   "metadata": {},
   "outputs": [],
   "source": [
    "def happy_birthday(dog_dict):\n",
    "    \"\"\"\n",
    "    This function dispays a happy birthday message\n",
    "    and adds one year to the age\n",
    "    \"\"\"\n",
    "    dog_dict['age'] += 1\n",
    "    print(f\"Happy Birthday {dog_dict['name']}! You are now {dog_dict['age']} year(s) old!\")"
   ]
  },
  {
   "cell_type": "markdown",
   "metadata": {},
   "source": [
    "#### Let's see what this function does...."
   ]
  },
  {
   "cell_type": "code",
   "execution_count": 4,
   "metadata": {},
   "outputs": [
    {
     "name": "stdout",
     "output_type": "stream",
     "text": [
      "Happy Birthday Patterson! You are now 2 year(s) old!\n"
     ]
    },
    {
     "data": {
      "text/plain": [
       "{'name': 'Patterson', 'age_adopted': 0, 'age': 2, 'bark': 'loud and shrill'}"
      ]
     },
     "execution_count": 4,
     "metadata": {},
     "output_type": "execute_result"
    }
   ],
   "source": [
    "happy_birthday(dog)\n",
    "dog"
   ]
  },
  {
   "cell_type": "markdown",
   "metadata": {},
   "source": [
    "## Everything in Python is an object including functions\n",
    "#### This means functions can be added to dictionaries"
   ]
  },
  {
   "cell_type": "code",
   "execution_count": 5,
   "metadata": {},
   "outputs": [
    {
     "data": {
      "text/plain": [
       "{'name': 'Patterson',\n",
       " 'age_adopted': 0,\n",
       " 'age': 2,\n",
       " 'bark': 'loud and shrill',\n",
       " 'birthday': <function __main__.happy_birthday(dog_dict)>}"
      ]
     },
     "execution_count": 5,
     "metadata": {},
     "output_type": "execute_result"
    }
   ],
   "source": [
    "dog['birthday'] = happy_birthday\n",
    "dog"
   ]
  },
  {
   "cell_type": "markdown",
   "metadata": {},
   "source": [
    "## So now the dictionary has both \"properties\" and \"methods\" ( functions )\n",
    "#### PROPERTIES\n",
    "- name\n",
    "- age\n",
    "- age_adopted\n",
    "- bark\n",
    "\n",
    "#### METHODS\n",
    "- birthday\n"
   ]
  },
  {
   "cell_type": "code",
   "execution_count": 7,
   "metadata": {},
   "outputs": [
    {
     "name": "stdout",
     "output_type": "stream",
     "text": [
      "Happy Birthday Patterson! You are now 3 year(s) old!\n"
     ]
    },
    {
     "data": {
      "text/plain": [
       "{'name': 'Patterson',\n",
       " 'age_adopted': 0,\n",
       " 'age': 3,\n",
       " 'bark': 'loud and shrill',\n",
       " 'birthday': <function __main__.happy_birthday(dog_dict)>}"
      ]
     },
     "execution_count": 7,
     "metadata": {},
     "output_type": "execute_result"
    }
   ],
   "source": [
    "# let's see how this now works (notice how we have to pass itself to the function):\n",
    "dog['birthday'](dog)\n",
    "dog"
   ]
  },
  {
   "cell_type": "code",
   "execution_count": 8,
   "metadata": {},
   "outputs": [
    {
     "data": {
      "text/plain": [
       "dict_keys(['name', 'age_adopted', 'age', 'bark', 'birthday'])"
      ]
     },
     "execution_count": 8,
     "metadata": {},
     "output_type": "execute_result"
    }
   ],
   "source": [
    "# Just like dir on objects we can see all the keys.  \n",
    "# We can't see if they are methods or properties ( just like dir(object))\n",
    "dog.keys()"
   ]
  },
  {
   "cell_type": "code",
   "execution_count": 9,
   "metadata": {},
   "outputs": [
    {
     "name": "stdout",
     "output_type": "stream",
     "text": [
      "Help on function happy_birthday in module __main__:\n",
      "\n",
      "happy_birthday(dog_dict)\n",
      "    This function dispays a happy birthday message\n",
      "    and adds one year to the age\n",
      "\n"
     ]
    }
   ],
   "source": [
    "# but help works of course:\n",
    "help(dog['birthday'])"
   ]
  },
  {
   "cell_type": "markdown",
   "metadata": {},
   "source": [
    "## But what about creating \"Corgi\" from \"Dog\" Dog -> Gorgi?"
   ]
  },
  {
   "cell_type": "code",
   "execution_count": 10,
   "metadata": {},
   "outputs": [
    {
     "data": {
      "text/plain": [
       "{'name': 'Patterson',\n",
       " 'age_adopted': 0,\n",
       " 'age': 3,\n",
       " 'bark': 'loud and shrill',\n",
       " 'birthday': <function __main__.happy_birthday(dog_dict)>,\n",
       " 'breed': 'Corgi',\n",
       " 'historical_purpose': 'hearding',\n",
       " 'current_purpose': 'being spoiled'}"
      ]
     },
     "execution_count": 10,
     "metadata": {},
     "output_type": "execute_result"
    }
   ],
   "source": [
    "corgi = dog.copy()\n",
    "corgi['breed'] = 'Corgi'\n",
    "corgi['historical_purpose'] = 'herding'\n",
    "corgi['current_purpose'] = 'being spoiled'\n",
    "\n",
    "corgi"
   ]
  },
  {
   "cell_type": "code",
   "execution_count": 11,
   "metadata": {},
   "outputs": [
    {
     "data": {
      "text/plain": [
       "{'name': 'Patterson',\n",
       " 'age_adopted': 0,\n",
       " 'age': 3,\n",
       " 'bark': 'loud and shrill',\n",
       " 'birthday': <function __main__.happy_birthday(dog_dict)>}"
      ]
     },
     "execution_count": 11,
     "metadata": {},
     "output_type": "execute_result"
    }
   ],
   "source": [
    "# you will note that, because we copied, dog is still the same\n",
    "dog"
   ]
  },
  {
   "cell_type": "markdown",
   "metadata": {},
   "source": [
    "## Problems:\n",
    "- cumbersome ( everything must be repeated )\n",
    "- when you extend you have to copy and you keep values ( hard to build brand new corgies )"
   ]
  },
  {
   "cell_type": "markdown",
   "metadata": {},
   "source": [
    "# Data Storage and Manipulation\n",
    "\n",
    "## Object Oriented Programming\n",
    "\n",
    "### Class: blueprint of an object\n",
    "### Instance: object created from Class blueprint\n",
    "\n",
    "\n",
    "In OOP Python, Classes and their instances greatly simplify code organization and reuse"
   ]
  },
  {
   "cell_type": "code",
   "execution_count": 13,
   "metadata": {},
   "outputs": [],
   "source": [
    "# Let's create a class that mirrors dog above\n",
    "\n",
    "# notice how self is used and accomplished what passing the dictionary to itself did above.\n",
    "\n",
    "# self also ensures that any actions apply only to the variable name \n",
    "# created by the currnt instance of the class\n",
    "class Dog():\n",
    "    \n",
    "    def __init__(self, name, age_adopted, bark):\n",
    "        self.name = name\n",
    "        self.age_adopted = age_adopted\n",
    "        self.bark = bark\n",
    "        # notice how we can add new stuff too\n",
    "        self.age = age_adopted\n",
    "        \n",
    "    \n",
    "    def birthday(self):\n",
    "        \"\"\"\n",
    "        This function dispays a happy birthday message\n",
    "        and adds one year to the age\n",
    "        \"\"\"\n",
    "        self.age += 1\n",
    "        print(f\"Happy Birthday {self.name}! You are now {self.age} year(s) old!\")"
   ]
  },
  {
   "cell_type": "code",
   "execution_count": 14,
   "metadata": {},
   "outputs": [
    {
     "data": {
      "text/plain": [
       "['__class__',\n",
       " '__delattr__',\n",
       " '__dict__',\n",
       " '__dir__',\n",
       " '__doc__',\n",
       " '__eq__',\n",
       " '__format__',\n",
       " '__ge__',\n",
       " '__getattribute__',\n",
       " '__gt__',\n",
       " '__hash__',\n",
       " '__init__',\n",
       " '__init_subclass__',\n",
       " '__le__',\n",
       " '__lt__',\n",
       " '__module__',\n",
       " '__ne__',\n",
       " '__new__',\n",
       " '__reduce__',\n",
       " '__reduce_ex__',\n",
       " '__repr__',\n",
       " '__setattr__',\n",
       " '__sizeof__',\n",
       " '__str__',\n",
       " '__subclasshook__',\n",
       " '__weakref__',\n",
       " 'age',\n",
       " 'age_adopted',\n",
       " 'bark',\n",
       " 'birthday',\n",
       " 'name']"
      ]
     },
     "execution_count": 14,
     "metadata": {},
     "output_type": "execute_result"
    }
   ],
   "source": [
    "# now let's create and instance of Dog \n",
    "patterson = Dog('Patterson', 0, \"loud and shrill\")\n",
    "dir(patterson)"
   ]
  },
  {
   "cell_type": "code",
   "execution_count": 15,
   "metadata": {},
   "outputs": [
    {
     "name": "stdout",
     "output_type": "stream",
     "text": [
      "Help on method birthday in module __main__:\n",
      "\n",
      "birthday() method of __main__.Dog instance\n",
      "    This function dispays a happy birthday message\n",
      "    and adds one year to the age\n",
      "\n"
     ]
    }
   ],
   "source": [
    "help(patterson.birthday)"
   ]
  },
  {
   "cell_type": "code",
   "execution_count": 16,
   "metadata": {},
   "outputs": [
    {
     "name": "stdout",
     "output_type": "stream",
     "text": [
      "Patterson\n",
      "0\n",
      "0\n",
      "loud and shrill\n"
     ]
    }
   ],
   "source": [
    "# confirm our values.....\n",
    "\n",
    "print(patterson.name)\n",
    "print(patterson.age)\n",
    "print(patterson.age_adopted)\n",
    "print(patterson.bark)\n"
   ]
  },
  {
   "cell_type": "code",
   "execution_count": 17,
   "metadata": {},
   "outputs": [
    {
     "name": "stdout",
     "output_type": "stream",
     "text": [
      "Happy Birthday Patterson! You are now 1 year(s) old!\n",
      "0\n",
      "1\n"
     ]
    }
   ],
   "source": [
    "# let's call the method\n",
    "patterson.birthday()\n",
    "# confirm ages worked right\n",
    "print(patterson.age_adopted)\n",
    "print(patterson.age)"
   ]
  },
  {
   "cell_type": "markdown",
   "metadata": {},
   "source": [
    "### Now lets \"extend\" or \"inherit\" Dog to Corgi"
   ]
  },
  {
   "cell_type": "code",
   "execution_count": 18,
   "metadata": {},
   "outputs": [],
   "source": [
    "# note how we pass in the starting class Dog -> Corgi\n",
    "class Corgi(Dog):\n",
    "    \n",
    "    def __init__(self, name, age, bark, purpose):\n",
    "        # super is an alias that gets the source object ( i.e. Dog )\n",
    "        super().__init__(name, age, bark)\n",
    "        # you could also do:\n",
    "        #Dog.__init__(name, age, bark)\n",
    "        self.breed = \"Corgi\"\n",
    "        self.historical_purpose = 'herding'\n",
    "        self.current_purpose = purpose\n",
    "    \n",
    "    # this is the function called when you \"print\" an instance of this class\n",
    "    def __repr__(self):\n",
    "        return f\"{self.name} is a {self.breed}.  He is now {self.age} and loves {self.current_purpose}!\""
   ]
  },
  {
   "cell_type": "code",
   "execution_count": 19,
   "metadata": {},
   "outputs": [
    {
     "data": {
      "text/plain": [
       "['__class__',\n",
       " '__delattr__',\n",
       " '__dict__',\n",
       " '__dir__',\n",
       " '__doc__',\n",
       " '__eq__',\n",
       " '__format__',\n",
       " '__ge__',\n",
       " '__getattribute__',\n",
       " '__gt__',\n",
       " '__hash__',\n",
       " '__init__',\n",
       " '__init_subclass__',\n",
       " '__le__',\n",
       " '__lt__',\n",
       " '__module__',\n",
       " '__ne__',\n",
       " '__new__',\n",
       " '__reduce__',\n",
       " '__reduce_ex__',\n",
       " '__repr__',\n",
       " '__setattr__',\n",
       " '__sizeof__',\n",
       " '__str__',\n",
       " '__subclasshook__',\n",
       " '__weakref__',\n",
       " 'age',\n",
       " 'age_adopted',\n",
       " 'bark',\n",
       " 'birthday',\n",
       " 'breed',\n",
       " 'current_purpose',\n",
       " 'historical_purpose',\n",
       " 'name']"
      ]
     },
     "execution_count": 19,
     "metadata": {},
     "output_type": "execute_result"
    }
   ],
   "source": [
    "judson = Corgi(\"Judson\", 3, \"deep and loud\", \"pillow puddling\")\n",
    "dir(judson)"
   ]
  },
  {
   "cell_type": "code",
   "execution_count": 20,
   "metadata": {},
   "outputs": [
    {
     "name": "stdout",
     "output_type": "stream",
     "text": [
      "Judson is a Corgi.  He is now 3 and loves pillow puddling!\n"
     ]
    }
   ],
   "source": [
    "print(judson)"
   ]
  },
  {
   "cell_type": "code",
   "execution_count": 21,
   "metadata": {},
   "outputs": [
    {
     "name": "stdout",
     "output_type": "stream",
     "text": [
      "Judson\n",
      "3\n",
      "3\n",
      "deep and loud\n",
      "Corgi\n",
      "hearding\n",
      "pillow puddling\n"
     ]
    }
   ],
   "source": [
    "print(judson.name)\n",
    "print(judson.age)\n",
    "print(judson.age_adopted)\n",
    "print(judson.bark)\n",
    "print(judson.breed)\n",
    "print(judson.historical_purpose)\n",
    "print(judson.current_purpose)"
   ]
  },
  {
   "cell_type": "code",
   "execution_count": 22,
   "metadata": {},
   "outputs": [
    {
     "name": "stdout",
     "output_type": "stream",
     "text": [
      "Happy Birthday Judson! You are now 4 year(s) old!\n"
     ]
    }
   ],
   "source": [
    "judson.birthday()"
   ]
  },
  {
   "cell_type": "code",
   "execution_count": null,
   "metadata": {},
   "outputs": [],
   "source": []
  }
 ],
 "metadata": {
  "kernelspec": {
   "display_name": "Python 3",
   "language": "python",
   "name": "python3"
  },
  "language_info": {
   "codemirror_mode": {
    "name": "ipython",
    "version": 3
   },
   "file_extension": ".py",
   "mimetype": "text/x-python",
   "name": "python",
   "nbconvert_exporter": "python",
   "pygments_lexer": "ipython3",
   "version": "3.7.6"
  }
 },
 "nbformat": 4,
 "nbformat_minor": 4
}
